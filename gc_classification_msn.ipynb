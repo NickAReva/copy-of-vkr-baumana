{
  "nbformat": 4,
  "nbformat_minor": 0,
  "metadata": {
    "colab": {
      "provenance": []
    },
    "kernelspec": {
      "name": "python3",
      "display_name": "Python 3"
    },
    "language_info": {
      "name": "python"
    }
  },
  "cells": [
    {
      "cell_type": "code",
      "execution_count": 1,
      "metadata": {
        "id": "ACVYWytWQBMw"
      },
      "outputs": [],
      "source": [
        "# Подключаем необходимые для работы библиотеки\n",
        "import numpy as np\n",
        "import pandas as pd\n",
        "import os\n",
        "import dask.dataframe as dd"
      ]
    },
    {
      "cell_type": "code",
      "source": [
        "from google.colab import drive\n",
        "drive.mount('/content/drive')"
      ],
      "metadata": {
        "colab": {
          "base_uri": "https://localhost:8080/"
        },
        "id": "SOcjL_y3p_Yy",
        "outputId": "c773c4cd-fd8e-4ce6-eff2-a1c33c20ce2a"
      },
      "execution_count": 2,
      "outputs": [
        {
          "output_type": "stream",
          "name": "stdout",
          "text": [
            "Drive already mounted at /content/drive; to attempt to forcibly remount, call drive.mount(\"/content/drive\", force_remount=True).\n"
          ]
        }
      ]
    },
    {
      "cell_type": "code",
      "source": [
        "# Загружаем в DataFrame данные из файла csv с закупками\n",
        "df_original = pd.read_csv('/content/drive/MyDrive/fz-100.csv', encoding='utf-8', on_bad_lines=\"skip\", delimiter=',', names=['Number','N1','N2','INN','Contractor','BIK','Customer','Region','R2','Performed','Subject','Budget','B2','N3','Date1','Date2','Date3','N4','RejectReason','RR2','Sum','S2','Additional','Cat1','Cat2','OKPD2','O2','N5','N6','N7','N8','N9','N10','N11','N12','N13','N14'])\n",
        "# df_original = pd.read_csv('/content/drive/MyDrive/Colab Notebooks/fz.zip', encoding='utf-8', on_bad_lines=\"skip\", compression='zip', delimiter=',', names=['Number','N1','N2','INN','Contractor','BIK','Customer','Region','R2','Performed','Subject','Budget','B2','N3','Date1','Date2','Date3','N4','RejectReason','RR2','Sum','S2','Additional','Cat1','Cat2','OKPD2','O2','N5','N6','N7','N8','N9','N10','N11','N12','N13','N14'])\n",
        "# df_original = dd.read_csv('/content/drive/MyDrive/Colab Notebooks/fz.zip', encoding='utf-8', on_bad_lines=\"skip\", blocksize=None, compression='zip', delimiter=',', names=['Number','N1','N2','INN','Contractor','BIK','Customer','Region','R2','Performed','Subject','Budget','B2','N3','Date1','Date2','Date3','N4','RejectReason','RR2','Sum','S2','Additional','Cat1','Cat2','OKPD2','O2','N5','N6','N7','N8','N9','N10','N11','N12','N13','N14'])"
      ],
      "metadata": {
        "colab": {
          "base_uri": "https://localhost:8080/"
        },
        "id": "fFJkB6QEnpIX",
        "outputId": "e4334b09-2874-4e56-b8a8-d2dc60745004"
      },
      "execution_count": 2,
      "outputs": [
        {
          "output_type": "stream",
          "name": "stderr",
          "text": [
            "<ipython-input-2-ac7209c4bc77>:2: DtypeWarning: Columns (28,29,30,31,32,33,34,35) have mixed types. Specify dtype option on import or set low_memory=False.\n",
            "  df_original = pd.read_csv('/content/drive/MyDrive/fz-100.csv', encoding='utf-8', on_bad_lines=\"skip\", delimiter=',', names=['Number','N1','N2','INN','Contractor','BIK','Customer','Region','R2','Performed','Subject','Budget','B2','N3','Date1','Date2','Date3','N4','RejectReason','RR2','Sum','S2','Additional','Cat1','Cat2','OKPD2','O2','N5','N6','N7','N8','N9','N10','N11','N12','N13','N14'])\n"
          ]
        }
      ]
    },
    {
      "cell_type": "code",
      "source": [
        "df_out = pd.DataFrame()\n",
        "with pd.read_csv('/content/drive/MyDrive/Colab Notebooks/fz.zip', encoding='utf-8', on_bad_lines=\"skip\", compression='zip', delimiter=',', chunksize=1000000, names=['Number','N1','N2','INN','Contractor','BIK','Customer','Region','R2','Performed','Subject','Budget','B2','N3','Date1','Date2','Date3','N4','RejectReason','RR2','Sum','S2','Additional','Cat1','Cat2','OKPD2','O2','N5','N6','N7','N8','N9','N10','N11','N12','N13','N14']) as reader:\n",
        " for chunk in reader:\n",
        "  df_work = chunk\n",
        "  df_work = df_work.drop(['Number','N1','N2','INN','Contractor','BIK','Customer','Region','R2','Performed','Budget','B2','N3','Date3','N4','RejectReason','RR2','S2','Additional','Cat1','Cat2','O2','N5','N6','N7','N8','N9','N10','N11','N12','N13','N14'], axis=1)\n",
        "  df_work = df_work.dropna(subset=['OKPD2'])\n",
        "  df_work = df_work.loc[df_work['Subject'] != '<НЕ ОПРЕДЕЛЕНО>']\n",
        "  df_41_OKPD = df_work[df_work['OKPD2'].str.contains('^41.')]\n",
        "  df_42_OKPD = df_work[df_work['OKPD2'].str.contains('^42.')]\n",
        "  df_43_OKPD = df_work[df_work['OKPD2'].str.contains('^43.')]\n",
        "  df_71_OKPD = df_work[df_work['OKPD2'].str.contains('^71.1')]\n",
        "  df_out = pd.concat([df_out, df_41_OKPD], ignore_index=True)\n",
        "  df_out = pd.concat([df_out, df_42_OKPD], ignore_index=True)\n",
        "  df_out = pd.concat([df_out, df_43_OKPD], ignore_index=True)\n",
        "  df_out = pd.concat([df_out, df_71_OKPD], ignore_index=True)\n",
        "  print(len(df_out))"
      ],
      "metadata": {
        "id": "SrDnh2-fLMgN"
      },
      "execution_count": null,
      "outputs": []
    },
    {
      "cell_type": "code",
      "source": [
        "print(len(df_out))"
      ],
      "metadata": {
        "colab": {
          "base_uri": "https://localhost:8080/"
        },
        "id": "Z46hxYubBGCz",
        "outputId": "1c0c77bd-adef-49a9-d098-353b75a973bd"
      },
      "execution_count": 14,
      "outputs": [
        {
          "output_type": "stream",
          "name": "stdout",
          "text": [
            "228066\n"
          ]
        }
      ]
    },
    {
      "cell_type": "code",
      "source": [
        "df_work = df_original"
      ],
      "metadata": {
        "id": "xBnDOGjV3Ub3"
      },
      "execution_count": 4,
      "outputs": []
    },
    {
      "cell_type": "code",
      "source": [
        "df_out.sample(20)"
      ],
      "metadata": {
        "id": "RS1nExFm3pW3",
        "colab": {
          "base_uri": "https://localhost:8080/",
          "height": 677
        },
        "outputId": "62c67f62-5ee0-4b74-f503-d7f1b49a3808"
      },
      "execution_count": 34,
      "outputs": [
        {
          "output_type": "execute_result",
          "data": {
            "text/plain": [
              "                                Subject       Date1       Date2         Sum  \\\n",
              "161339                Контракт заключен  2022-07-19  2022-12-31    32834.00   \n",
              "163719                Контракт исполнен  2022-05-31  2022-12-31   709652.40   \n",
              "121327  Исполнение контракта прекращено  2021-08-03  2021-12-31   908494.94   \n",
              "35171                 Контракт заключен  2022-05-04  2022-12-31  8923279.58   \n",
              "45058                 Контракт заключен  2022-07-18  2022-11-10  3479545.20   \n",
              "163901                Контракт исполнен  2022-07-11  2022-11-01   300000.00   \n",
              "202019                Контракт заключен  2022-03-28  2022-12-31   899431.00   \n",
              "143081                Контракт заключен  2022-08-19  2022-12-31  1250598.00   \n",
              "139312                Контракт заключен  2022-08-19  2022-12-31  7072573.00   \n",
              "122733                Контракт исполнен  2022-04-04  2022-12-31  1686000.00   \n",
              "120615                Контракт исполнен  2022-08-17  2022-09-30   837809.50   \n",
              "152991                Контракт заключен  2022-05-04  2022-12-31   220918.00   \n",
              "11363                 Контракт заключен  2022-06-20  2022-12-07  8699685.60   \n",
              "151564                Контракт исполнен  2022-06-27  2022-12-31  1932946.00   \n",
              "36770                 Контракт исполнен  2022-07-11  2022-08-15   634298.40   \n",
              "164553                Контракт заключен  2022-05-31  2022-12-31          \\N   \n",
              "158273  Исполнение контракта прекращено  2022-04-18  2022-12-31  2338206.00   \n",
              "12075                 Контракт исполнен  2022-04-19  2022-08-09  2342301.74   \n",
              "91521                 Контракт исполнен  2022-08-02  2022-11-30    41338.35   \n",
              "158392                Контракт исполнен  2022-06-20  2022-11-09   707638.80   \n",
              "\n",
              "       OKPD2  \n",
              "161339  43.2  \n",
              "163719  43.2  \n",
              "121327  42.1  \n",
              "35171   41.2  \n",
              "45058   42.2  \n",
              "163901  43.2  \n",
              "202019  42.1  \n",
              "143081  42.9  \n",
              "139312  42.1  \n",
              "122733  42.1  \n",
              "120615  42.2  \n",
              "152991  43.2  \n",
              "11363   42.2  \n",
              "151564  43.9  \n",
              "36770   41.2  \n",
              "164553  43.9  \n",
              "158273  43.2  \n",
              "12075   42.1  \n",
              "91521   71.1  \n",
              "158392  43.2  "
            ],
            "text/html": [
              "\n",
              "  <div id=\"df-dc8058fa-90fe-4974-8dae-d38e709c4314\" class=\"colab-df-container\">\n",
              "    <div>\n",
              "<style scoped>\n",
              "    .dataframe tbody tr th:only-of-type {\n",
              "        vertical-align: middle;\n",
              "    }\n",
              "\n",
              "    .dataframe tbody tr th {\n",
              "        vertical-align: top;\n",
              "    }\n",
              "\n",
              "    .dataframe thead th {\n",
              "        text-align: right;\n",
              "    }\n",
              "</style>\n",
              "<table border=\"1\" class=\"dataframe\">\n",
              "  <thead>\n",
              "    <tr style=\"text-align: right;\">\n",
              "      <th></th>\n",
              "      <th>Subject</th>\n",
              "      <th>Date1</th>\n",
              "      <th>Date2</th>\n",
              "      <th>Sum</th>\n",
              "      <th>OKPD2</th>\n",
              "    </tr>\n",
              "  </thead>\n",
              "  <tbody>\n",
              "    <tr>\n",
              "      <th>161339</th>\n",
              "      <td>Контракт заключен</td>\n",
              "      <td>2022-07-19</td>\n",
              "      <td>2022-12-31</td>\n",
              "      <td>32834.00</td>\n",
              "      <td>43.2</td>\n",
              "    </tr>\n",
              "    <tr>\n",
              "      <th>163719</th>\n",
              "      <td>Контракт исполнен</td>\n",
              "      <td>2022-05-31</td>\n",
              "      <td>2022-12-31</td>\n",
              "      <td>709652.40</td>\n",
              "      <td>43.2</td>\n",
              "    </tr>\n",
              "    <tr>\n",
              "      <th>121327</th>\n",
              "      <td>Исполнение контракта прекращено</td>\n",
              "      <td>2021-08-03</td>\n",
              "      <td>2021-12-31</td>\n",
              "      <td>908494.94</td>\n",
              "      <td>42.1</td>\n",
              "    </tr>\n",
              "    <tr>\n",
              "      <th>35171</th>\n",
              "      <td>Контракт заключен</td>\n",
              "      <td>2022-05-04</td>\n",
              "      <td>2022-12-31</td>\n",
              "      <td>8923279.58</td>\n",
              "      <td>41.2</td>\n",
              "    </tr>\n",
              "    <tr>\n",
              "      <th>45058</th>\n",
              "      <td>Контракт заключен</td>\n",
              "      <td>2022-07-18</td>\n",
              "      <td>2022-11-10</td>\n",
              "      <td>3479545.20</td>\n",
              "      <td>42.2</td>\n",
              "    </tr>\n",
              "    <tr>\n",
              "      <th>163901</th>\n",
              "      <td>Контракт исполнен</td>\n",
              "      <td>2022-07-11</td>\n",
              "      <td>2022-11-01</td>\n",
              "      <td>300000.00</td>\n",
              "      <td>43.2</td>\n",
              "    </tr>\n",
              "    <tr>\n",
              "      <th>202019</th>\n",
              "      <td>Контракт заключен</td>\n",
              "      <td>2022-03-28</td>\n",
              "      <td>2022-12-31</td>\n",
              "      <td>899431.00</td>\n",
              "      <td>42.1</td>\n",
              "    </tr>\n",
              "    <tr>\n",
              "      <th>143081</th>\n",
              "      <td>Контракт заключен</td>\n",
              "      <td>2022-08-19</td>\n",
              "      <td>2022-12-31</td>\n",
              "      <td>1250598.00</td>\n",
              "      <td>42.9</td>\n",
              "    </tr>\n",
              "    <tr>\n",
              "      <th>139312</th>\n",
              "      <td>Контракт заключен</td>\n",
              "      <td>2022-08-19</td>\n",
              "      <td>2022-12-31</td>\n",
              "      <td>7072573.00</td>\n",
              "      <td>42.1</td>\n",
              "    </tr>\n",
              "    <tr>\n",
              "      <th>122733</th>\n",
              "      <td>Контракт исполнен</td>\n",
              "      <td>2022-04-04</td>\n",
              "      <td>2022-12-31</td>\n",
              "      <td>1686000.00</td>\n",
              "      <td>42.1</td>\n",
              "    </tr>\n",
              "    <tr>\n",
              "      <th>120615</th>\n",
              "      <td>Контракт исполнен</td>\n",
              "      <td>2022-08-17</td>\n",
              "      <td>2022-09-30</td>\n",
              "      <td>837809.50</td>\n",
              "      <td>42.2</td>\n",
              "    </tr>\n",
              "    <tr>\n",
              "      <th>152991</th>\n",
              "      <td>Контракт заключен</td>\n",
              "      <td>2022-05-04</td>\n",
              "      <td>2022-12-31</td>\n",
              "      <td>220918.00</td>\n",
              "      <td>43.2</td>\n",
              "    </tr>\n",
              "    <tr>\n",
              "      <th>11363</th>\n",
              "      <td>Контракт заключен</td>\n",
              "      <td>2022-06-20</td>\n",
              "      <td>2022-12-07</td>\n",
              "      <td>8699685.60</td>\n",
              "      <td>42.2</td>\n",
              "    </tr>\n",
              "    <tr>\n",
              "      <th>151564</th>\n",
              "      <td>Контракт исполнен</td>\n",
              "      <td>2022-06-27</td>\n",
              "      <td>2022-12-31</td>\n",
              "      <td>1932946.00</td>\n",
              "      <td>43.9</td>\n",
              "    </tr>\n",
              "    <tr>\n",
              "      <th>36770</th>\n",
              "      <td>Контракт исполнен</td>\n",
              "      <td>2022-07-11</td>\n",
              "      <td>2022-08-15</td>\n",
              "      <td>634298.40</td>\n",
              "      <td>41.2</td>\n",
              "    </tr>\n",
              "    <tr>\n",
              "      <th>164553</th>\n",
              "      <td>Контракт заключен</td>\n",
              "      <td>2022-05-31</td>\n",
              "      <td>2022-12-31</td>\n",
              "      <td>\\N</td>\n",
              "      <td>43.9</td>\n",
              "    </tr>\n",
              "    <tr>\n",
              "      <th>158273</th>\n",
              "      <td>Исполнение контракта прекращено</td>\n",
              "      <td>2022-04-18</td>\n",
              "      <td>2022-12-31</td>\n",
              "      <td>2338206.00</td>\n",
              "      <td>43.2</td>\n",
              "    </tr>\n",
              "    <tr>\n",
              "      <th>12075</th>\n",
              "      <td>Контракт исполнен</td>\n",
              "      <td>2022-04-19</td>\n",
              "      <td>2022-08-09</td>\n",
              "      <td>2342301.74</td>\n",
              "      <td>42.1</td>\n",
              "    </tr>\n",
              "    <tr>\n",
              "      <th>91521</th>\n",
              "      <td>Контракт исполнен</td>\n",
              "      <td>2022-08-02</td>\n",
              "      <td>2022-11-30</td>\n",
              "      <td>41338.35</td>\n",
              "      <td>71.1</td>\n",
              "    </tr>\n",
              "    <tr>\n",
              "      <th>158392</th>\n",
              "      <td>Контракт исполнен</td>\n",
              "      <td>2022-06-20</td>\n",
              "      <td>2022-11-09</td>\n",
              "      <td>707638.80</td>\n",
              "      <td>43.2</td>\n",
              "    </tr>\n",
              "  </tbody>\n",
              "</table>\n",
              "</div>\n",
              "    <div class=\"colab-df-buttons\">\n",
              "\n",
              "  <div class=\"colab-df-container\">\n",
              "    <button class=\"colab-df-convert\" onclick=\"convertToInteractive('df-dc8058fa-90fe-4974-8dae-d38e709c4314')\"\n",
              "            title=\"Convert this dataframe to an interactive table.\"\n",
              "            style=\"display:none;\">\n",
              "\n",
              "  <svg xmlns=\"http://www.w3.org/2000/svg\" height=\"24px\" viewBox=\"0 -960 960 960\">\n",
              "    <path d=\"M120-120v-720h720v720H120Zm60-500h600v-160H180v160Zm220 220h160v-160H400v160Zm0 220h160v-160H400v160ZM180-400h160v-160H180v160Zm440 0h160v-160H620v160ZM180-180h160v-160H180v160Zm440 0h160v-160H620v160Z\"/>\n",
              "  </svg>\n",
              "    </button>\n",
              "\n",
              "  <style>\n",
              "    .colab-df-container {\n",
              "      display:flex;\n",
              "      gap: 12px;\n",
              "    }\n",
              "\n",
              "    .colab-df-convert {\n",
              "      background-color: #E8F0FE;\n",
              "      border: none;\n",
              "      border-radius: 50%;\n",
              "      cursor: pointer;\n",
              "      display: none;\n",
              "      fill: #1967D2;\n",
              "      height: 32px;\n",
              "      padding: 0 0 0 0;\n",
              "      width: 32px;\n",
              "    }\n",
              "\n",
              "    .colab-df-convert:hover {\n",
              "      background-color: #E2EBFA;\n",
              "      box-shadow: 0px 1px 2px rgba(60, 64, 67, 0.3), 0px 1px 3px 1px rgba(60, 64, 67, 0.15);\n",
              "      fill: #174EA6;\n",
              "    }\n",
              "\n",
              "    .colab-df-buttons div {\n",
              "      margin-bottom: 4px;\n",
              "    }\n",
              "\n",
              "    [theme=dark] .colab-df-convert {\n",
              "      background-color: #3B4455;\n",
              "      fill: #D2E3FC;\n",
              "    }\n",
              "\n",
              "    [theme=dark] .colab-df-convert:hover {\n",
              "      background-color: #434B5C;\n",
              "      box-shadow: 0px 1px 3px 1px rgba(0, 0, 0, 0.15);\n",
              "      filter: drop-shadow(0px 1px 2px rgba(0, 0, 0, 0.3));\n",
              "      fill: #FFFFFF;\n",
              "    }\n",
              "  </style>\n",
              "\n",
              "    <script>\n",
              "      const buttonEl =\n",
              "        document.querySelector('#df-dc8058fa-90fe-4974-8dae-d38e709c4314 button.colab-df-convert');\n",
              "      buttonEl.style.display =\n",
              "        google.colab.kernel.accessAllowed ? 'block' : 'none';\n",
              "\n",
              "      async function convertToInteractive(key) {\n",
              "        const element = document.querySelector('#df-dc8058fa-90fe-4974-8dae-d38e709c4314');\n",
              "        const dataTable =\n",
              "          await google.colab.kernel.invokeFunction('convertToInteractive',\n",
              "                                                    [key], {});\n",
              "        if (!dataTable) return;\n",
              "\n",
              "        const docLinkHtml = 'Like what you see? Visit the ' +\n",
              "          '<a target=\"_blank\" href=https://colab.research.google.com/notebooks/data_table.ipynb>data table notebook</a>'\n",
              "          + ' to learn more about interactive tables.';\n",
              "        element.innerHTML = '';\n",
              "        dataTable['output_type'] = 'display_data';\n",
              "        await google.colab.output.renderOutput(dataTable, element);\n",
              "        const docLink = document.createElement('div');\n",
              "        docLink.innerHTML = docLinkHtml;\n",
              "        element.appendChild(docLink);\n",
              "      }\n",
              "    </script>\n",
              "  </div>\n",
              "\n",
              "\n",
              "<div id=\"df-dad5d89e-668a-4196-9f3f-eb4dc094d0a4\">\n",
              "  <button class=\"colab-df-quickchart\" onclick=\"quickchart('df-dad5d89e-668a-4196-9f3f-eb4dc094d0a4')\"\n",
              "            title=\"Suggest charts\"\n",
              "            style=\"display:none;\">\n",
              "\n",
              "<svg xmlns=\"http://www.w3.org/2000/svg\" height=\"24px\"viewBox=\"0 0 24 24\"\n",
              "     width=\"24px\">\n",
              "    <g>\n",
              "        <path d=\"M19 3H5c-1.1 0-2 .9-2 2v14c0 1.1.9 2 2 2h14c1.1 0 2-.9 2-2V5c0-1.1-.9-2-2-2zM9 17H7v-7h2v7zm4 0h-2V7h2v10zm4 0h-2v-4h2v4z\"/>\n",
              "    </g>\n",
              "</svg>\n",
              "  </button>\n",
              "\n",
              "<style>\n",
              "  .colab-df-quickchart {\n",
              "      --bg-color: #E8F0FE;\n",
              "      --fill-color: #1967D2;\n",
              "      --hover-bg-color: #E2EBFA;\n",
              "      --hover-fill-color: #174EA6;\n",
              "      --disabled-fill-color: #AAA;\n",
              "      --disabled-bg-color: #DDD;\n",
              "  }\n",
              "\n",
              "  [theme=dark] .colab-df-quickchart {\n",
              "      --bg-color: #3B4455;\n",
              "      --fill-color: #D2E3FC;\n",
              "      --hover-bg-color: #434B5C;\n",
              "      --hover-fill-color: #FFFFFF;\n",
              "      --disabled-bg-color: #3B4455;\n",
              "      --disabled-fill-color: #666;\n",
              "  }\n",
              "\n",
              "  .colab-df-quickchart {\n",
              "    background-color: var(--bg-color);\n",
              "    border: none;\n",
              "    border-radius: 50%;\n",
              "    cursor: pointer;\n",
              "    display: none;\n",
              "    fill: var(--fill-color);\n",
              "    height: 32px;\n",
              "    padding: 0;\n",
              "    width: 32px;\n",
              "  }\n",
              "\n",
              "  .colab-df-quickchart:hover {\n",
              "    background-color: var(--hover-bg-color);\n",
              "    box-shadow: 0 1px 2px rgba(60, 64, 67, 0.3), 0 1px 3px 1px rgba(60, 64, 67, 0.15);\n",
              "    fill: var(--button-hover-fill-color);\n",
              "  }\n",
              "\n",
              "  .colab-df-quickchart-complete:disabled,\n",
              "  .colab-df-quickchart-complete:disabled:hover {\n",
              "    background-color: var(--disabled-bg-color);\n",
              "    fill: var(--disabled-fill-color);\n",
              "    box-shadow: none;\n",
              "  }\n",
              "\n",
              "  .colab-df-spinner {\n",
              "    border: 2px solid var(--fill-color);\n",
              "    border-color: transparent;\n",
              "    border-bottom-color: var(--fill-color);\n",
              "    animation:\n",
              "      spin 1s steps(1) infinite;\n",
              "  }\n",
              "\n",
              "  @keyframes spin {\n",
              "    0% {\n",
              "      border-color: transparent;\n",
              "      border-bottom-color: var(--fill-color);\n",
              "      border-left-color: var(--fill-color);\n",
              "    }\n",
              "    20% {\n",
              "      border-color: transparent;\n",
              "      border-left-color: var(--fill-color);\n",
              "      border-top-color: var(--fill-color);\n",
              "    }\n",
              "    30% {\n",
              "      border-color: transparent;\n",
              "      border-left-color: var(--fill-color);\n",
              "      border-top-color: var(--fill-color);\n",
              "      border-right-color: var(--fill-color);\n",
              "    }\n",
              "    40% {\n",
              "      border-color: transparent;\n",
              "      border-right-color: var(--fill-color);\n",
              "      border-top-color: var(--fill-color);\n",
              "    }\n",
              "    60% {\n",
              "      border-color: transparent;\n",
              "      border-right-color: var(--fill-color);\n",
              "    }\n",
              "    80% {\n",
              "      border-color: transparent;\n",
              "      border-right-color: var(--fill-color);\n",
              "      border-bottom-color: var(--fill-color);\n",
              "    }\n",
              "    90% {\n",
              "      border-color: transparent;\n",
              "      border-bottom-color: var(--fill-color);\n",
              "    }\n",
              "  }\n",
              "</style>\n",
              "\n",
              "  <script>\n",
              "    async function quickchart(key) {\n",
              "      const quickchartButtonEl =\n",
              "        document.querySelector('#' + key + ' button');\n",
              "      quickchartButtonEl.disabled = true;  // To prevent multiple clicks.\n",
              "      quickchartButtonEl.classList.add('colab-df-spinner');\n",
              "      try {\n",
              "        const charts = await google.colab.kernel.invokeFunction(\n",
              "            'suggestCharts', [key], {});\n",
              "      } catch (error) {\n",
              "        console.error('Error during call to suggestCharts:', error);\n",
              "      }\n",
              "      quickchartButtonEl.classList.remove('colab-df-spinner');\n",
              "      quickchartButtonEl.classList.add('colab-df-quickchart-complete');\n",
              "    }\n",
              "    (() => {\n",
              "      let quickchartButtonEl =\n",
              "        document.querySelector('#df-dad5d89e-668a-4196-9f3f-eb4dc094d0a4 button');\n",
              "      quickchartButtonEl.style.display =\n",
              "        google.colab.kernel.accessAllowed ? 'block' : 'none';\n",
              "    })();\n",
              "  </script>\n",
              "</div>\n",
              "    </div>\n",
              "  </div>\n"
            ],
            "application/vnd.google.colaboratory.intrinsic+json": {
              "type": "dataframe",
              "repr_error": "0"
            }
          },
          "metadata": {},
          "execution_count": 34
        }
      ]
    },
    {
      "cell_type": "code",
      "source": [
        "df_out.shape"
      ],
      "metadata": {
        "colab": {
          "base_uri": "https://localhost:8080/"
        },
        "id": "3mMjTNqXNfLp",
        "outputId": "1b79ff01-e74a-45a8-9783-a2baea26bcc9"
      },
      "execution_count": 16,
      "outputs": [
        {
          "output_type": "execute_result",
          "data": {
            "text/plain": [
              "(228066, 5)"
            ]
          },
          "metadata": {},
          "execution_count": 16
        }
      ]
    },
    {
      "cell_type": "code",
      "source": [
        "df_out.info()"
      ],
      "metadata": {
        "colab": {
          "base_uri": "https://localhost:8080/"
        },
        "id": "mfz53lAeNuNI",
        "outputId": "4a9f2a20-76c5-480e-846b-1094cfa07aae"
      },
      "execution_count": 17,
      "outputs": [
        {
          "output_type": "stream",
          "name": "stdout",
          "text": [
            "<class 'pandas.core.frame.DataFrame'>\n",
            "RangeIndex: 228066 entries, 0 to 228065\n",
            "Data columns (total 5 columns):\n",
            " #   Column   Non-Null Count   Dtype \n",
            "---  ------   --------------   ----- \n",
            " 0   Subject  228066 non-null  object\n",
            " 1   Date1    228064 non-null  object\n",
            " 2   Date2    228066 non-null  object\n",
            " 3   Sum      228066 non-null  object\n",
            " 4   OKPD2    228066 non-null  object\n",
            "dtypes: object(5)\n",
            "memory usage: 8.7+ MB\n"
          ]
        }
      ]
    },
    {
      "cell_type": "code",
      "source": [
        "df_work = df_work.drop(['Number','N1','N2','INN','BIK','Region','R2','Performed','Budget','B2','N3','N4','RejectReason','RR2','S2','Additional','Cat1','Cat2','O2','N5','N6','N7','N8','N9','N10','N11','N12','N13','N14'], axis=1)"
      ],
      "metadata": {
        "id": "GqEpDM5IcnRO"
      },
      "execution_count": 8,
      "outputs": []
    },
    {
      "cell_type": "code",
      "source": [
        "df_work = df_work.dropna(subset=['OKPD2'])"
      ],
      "metadata": {
        "id": "ElN05uf4jkNk"
      },
      "execution_count": 9,
      "outputs": []
    },
    {
      "cell_type": "code",
      "source": [
        "df_work = df_work.loc[df_work['Subject'] != '<НЕ ОПРЕДЕЛЕНО>']"
      ],
      "metadata": {
        "id": "wkptLXx8kf-F"
      },
      "execution_count": 10,
      "outputs": []
    },
    {
      "cell_type": "code",
      "source": [
        "df_work = df_work.reset_index()"
      ],
      "metadata": {
        "id": "VL92jQjMqKhM"
      },
      "execution_count": 11,
      "outputs": []
    },
    {
      "cell_type": "code",
      "source": [
        "del df_work['index']"
      ],
      "metadata": {
        "id": "b29Hd3BIp6jx"
      },
      "execution_count": 12,
      "outputs": []
    },
    {
      "cell_type": "code",
      "source": [
        "df_work.loc[df_work['OKPD2'] == '41']"
      ],
      "metadata": {
        "colab": {
          "base_uri": "https://localhost:8080/",
          "height": 178
        },
        "id": "OcxrFAIdqdGR",
        "outputId": "ab30c531-02e9-4926-f668-b3a078d5341b"
      },
      "execution_count": 80,
      "outputs": [
        {
          "output_type": "execute_result",
          "data": {
            "text/plain": [
              "Dask DataFrame Structure:\n",
              "              Contractor Customer Subject   Date1   Date2   Date3     Sum   OKPD2\n",
              "npartitions=1                                                                    \n",
              "                  string    int64  string  string  string  string  string  string\n",
              "                     ...      ...     ...     ...     ...     ...     ...     ...\n",
              "Dask Name: loc-series, 13 graph layers"
            ],
            "text/html": [
              "<div><strong>Dask DataFrame Structure:</strong></div>\n",
              "<div>\n",
              "<style scoped>\n",
              "    .dataframe tbody tr th:only-of-type {\n",
              "        vertical-align: middle;\n",
              "    }\n",
              "\n",
              "    .dataframe tbody tr th {\n",
              "        vertical-align: top;\n",
              "    }\n",
              "\n",
              "    .dataframe thead th {\n",
              "        text-align: right;\n",
              "    }\n",
              "</style>\n",
              "<table border=\"1\" class=\"dataframe\">\n",
              "  <thead>\n",
              "    <tr style=\"text-align: right;\">\n",
              "      <th></th>\n",
              "      <th>Contractor</th>\n",
              "      <th>Customer</th>\n",
              "      <th>Subject</th>\n",
              "      <th>Date1</th>\n",
              "      <th>Date2</th>\n",
              "      <th>Date3</th>\n",
              "      <th>Sum</th>\n",
              "      <th>OKPD2</th>\n",
              "    </tr>\n",
              "    <tr>\n",
              "      <th>npartitions=1</th>\n",
              "      <th></th>\n",
              "      <th></th>\n",
              "      <th></th>\n",
              "      <th></th>\n",
              "      <th></th>\n",
              "      <th></th>\n",
              "      <th></th>\n",
              "      <th></th>\n",
              "    </tr>\n",
              "  </thead>\n",
              "  <tbody>\n",
              "    <tr>\n",
              "      <th></th>\n",
              "      <td>string</td>\n",
              "      <td>int64</td>\n",
              "      <td>string</td>\n",
              "      <td>string</td>\n",
              "      <td>string</td>\n",
              "      <td>string</td>\n",
              "      <td>string</td>\n",
              "      <td>string</td>\n",
              "    </tr>\n",
              "    <tr>\n",
              "      <th></th>\n",
              "      <td>...</td>\n",
              "      <td>...</td>\n",
              "      <td>...</td>\n",
              "      <td>...</td>\n",
              "      <td>...</td>\n",
              "      <td>...</td>\n",
              "      <td>...</td>\n",
              "      <td>...</td>\n",
              "    </tr>\n",
              "  </tbody>\n",
              "</table>\n",
              "</div>\n",
              "<div>Dask Name: loc-series, 13 graph layers</div>"
            ]
          },
          "metadata": {},
          "execution_count": 80
        }
      ]
    }
  ]
}