{
  "nbformat": 4,
  "nbformat_minor": 0,
  "metadata": {
    "colab": {
      "provenance": [],
      "mount_file_id": "14yO_1oN3VYu3Th0TO0HQcUPtc0vrqtVN",
      "authorship_tag": "ABX9TyNWLN/dkdCNndDBjWDbNMP0",
      "include_colab_link": true
    },
    "kernelspec": {
      "name": "python3",
      "display_name": "Python 3"
    },
    "language_info": {
      "name": "python"
    }
  },
  "cells": [
    {
      "cell_type": "markdown",
      "metadata": {
        "id": "view-in-github",
        "colab_type": "text"
      },
      "source": [
        "<a href=\"https://colab.research.google.com/github/snmenshikh/vkr-baumana/blob/main/gc_classification_msn.ipynb\" target=\"_parent\"><img src=\"https://colab.research.google.com/assets/colab-badge.svg\" alt=\"Open In Colab\"/></a>"
      ]
    },
    {
      "cell_type": "code",
      "execution_count": 14,
      "metadata": {
        "id": "ACVYWytWQBMw"
      },
      "outputs": [],
      "source": [
        "# Подключаем необходимые для работы библиотеки\n",
        "import numpy as np\n",
        "import pandas as pd"
      ]
    },
    {
      "cell_type": "code",
      "source": [
        "# Загружаем в DataFrame данные из файла csv с закупками\n",
        "df_original = pd.read_csv('fz.csv')"
      ],
      "metadata": {
        "id": "fFJkB6QEnpIX"
      },
      "execution_count": null,
      "outputs": []
    },
    {
      "cell_type": "code",
      "source": [
        "df_original.head()"
      ],
      "metadata": {
        "id": "wmT_NebT1u2F"
      },
      "execution_count": null,
      "outputs": []
    }
  ]
}