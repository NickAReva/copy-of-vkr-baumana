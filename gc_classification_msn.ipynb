{
  "nbformat": 4,
  "nbformat_minor": 0,
  "metadata": {
    "colab": {
      "provenance": []
    },
    "kernelspec": {
      "name": "python3",
      "display_name": "Python 3"
    },
    "language_info": {
      "name": "python"
    }
  },
  "cells": [
    {
      "cell_type": "code",
      "execution_count": 1,
      "metadata": {
        "id": "ACVYWytWQBMw"
      },
      "outputs": [],
      "source": [
        "# Подключаем необходимые для работы библиотеки\n",
        "import numpy as np\n",
        "import pandas as pd\n",
        "import os\n",
        "import gdown\n",
        "import zipfile\n",
        "import warnings\n",
        "from google.colab import drive"
      ]
    },
    {
      "cell_type": "code",
      "source": [
        "# Отключаем предупреждения\n",
        "warnings.filterwarnings('ignore')"
      ],
      "metadata": {
        "id": "E3psa9gRNH5m"
      },
      "execution_count": 2,
      "outputs": []
    },
    {
      "cell_type": "code",
      "source": [
        "# Монтируем диск для скачивания, распаковки и работы с CSV-файлом\n",
        "drive.mount('/content/drive')"
      ],
      "metadata": {
        "colab": {
          "base_uri": "https://localhost:8080/"
        },
        "id": "SOcjL_y3p_Yy",
        "outputId": "344830cc-31c3-440f-fdb3-e9bfe41961fd"
      },
      "execution_count": 3,
      "outputs": [
        {
          "output_type": "stream",
          "name": "stdout",
          "text": [
            "Drive already mounted at /content/drive; to attempt to forcibly remount, call drive.mount(\"/content/drive\", force_remount=True).\n"
          ]
        }
      ]
    },
    {
      "cell_type": "code",
      "source": [
        "# Скачиваем ZIP-файл с записями о контрактах с Google-диска\n",
        "url = 'https://drive.google.com/uc?id=1sRHx27O3NgTivrrQHdBdTAqxdCYNmARW'\n",
        "name_zip = 'fz.zip'\n",
        "gdown.download(url, name_zip, quiet=False)"
      ],
      "metadata": {
        "id": "jpxTLFDsNwUM"
      },
      "execution_count": null,
      "outputs": []
    },
    {
      "cell_type": "code",
      "source": [
        "# Распаковываем ZIP-файл с записями о контрактах\n",
        "with zipfile.ZipFile(name_zip, 'r') as zip_ref:\n",
        "  zip_ref.extractall()"
      ],
      "metadata": {
        "id": "K2xQG8YUT5s4"
      },
      "execution_count": 9,
      "outputs": []
    },
    {
      "cell_type": "code",
      "source": [
        "# Читаем данные из супербольшого CSV-файла в датафрейм кусками, одновременно удаляя ненужные для анализа столбцы и строки с пустыми значениями\n",
        "df_original = pd.DataFrame()\n",
        "name_csv = 'fz.csv'\n",
        "type_cols = {'Subject': 'string', 'OKPD2': 'string'}\n",
        "with pd.read_csv(name_csv, chunksize=100000, encoding='utf-8', on_bad_lines=\"skip\", delimiter=',', header=None, usecols=[11, 26], names=['Subject', 'OKPD2'], dtype=type_cols) as reader:\n",
        "  for chunk in reader:\n",
        "    # Отфильтровываем записи о контрактах, оставляя записи групп ОКПД 41, 42, 43, 71.1\n",
        "    chunk = chunk[chunk['OKPD2'].str.contains('^41.') | chunk['OKPD2'].str.contains('^42.') | chunk['OKPD2'].str.contains('^43.') | chunk['OKPD2'].str.contains('^71.1')]\n",
        "    # Удаляем из датафрейма строки с неопределенным предметом закупки и строки с пустыми значениями\n",
        "    chunk = chunk.loc[chunk['Subject'] != '<НЕ ОПРЕДЕЛЕНО>']\n",
        "    chunk.dropna\n",
        "    df_original = pd.concat([df_original, chunk], ignore_index=True)"
      ],
      "metadata": {
        "id": "Wp2sVIpAYMmI"
      },
      "execution_count": 4,
      "outputs": []
    },
    {
      "cell_type": "code",
      "source": [
        "df_work = df_original"
      ],
      "metadata": {
        "id": "7ITmpwnieVAB"
      },
      "execution_count": 5,
      "outputs": []
    },
    {
      "cell_type": "code",
      "source": [
        "# Сбрасываем индексы в датафрейме\n",
        "df_work = df_work.reset_index()\n",
        "del df_work['index']"
      ],
      "metadata": {
        "id": "od80TrqyZ3cE"
      },
      "execution_count": 6,
      "outputs": []
    },
    {
      "cell_type": "code",
      "source": [
        "df_work.sample(10)"
      ],
      "metadata": {
        "colab": {
          "base_uri": "https://localhost:8080/",
          "height": 359
        },
        "id": "oG-OYHLpeh_x",
        "outputId": "b143f280-ab19-4299-eb18-41544e758bd3"
      },
      "execution_count": 11,
      "outputs": [
        {
          "output_type": "execute_result",
          "data": {
            "text/plain": [
              "                                                   Subject OKPD2\n",
              "723176   Оказание услуг по техническому обслуживанию ли...  43.2\n",
              "1232417  Выполнение работ, в результате которых обеспеч...  71.1\n",
              "1192389  «Капитальный ремонт систем теплоснабжения МО «...  43.2\n",
              "1302262  Оказание услуг по техническому обслуживанию и ...  43.2\n",
              "951491   Выполнение работ по отсыпке автомобильных доро...  42.1\n",
              "212679   Приобретение у застройщика жилого помещения (д...  41.2\n",
              "724436   Установка оконных решеток, оконных фрамуг в ин...  43.3\n",
              "1415566  Ремонт кровли лит. А (основн . строение) здани...  43.9\n",
              "537744   Устройство систем видеонаблюдения, аудиооповещ...  43.2\n",
              "287425   Оказание услуг по разработке эскизного проекта...  71.1"
            ],
            "text/html": [
              "\n",
              "  <div id=\"df-f3c2fc55-2ff9-4c97-8a15-d7b1a034f592\" class=\"colab-df-container\">\n",
              "    <div>\n",
              "<style scoped>\n",
              "    .dataframe tbody tr th:only-of-type {\n",
              "        vertical-align: middle;\n",
              "    }\n",
              "\n",
              "    .dataframe tbody tr th {\n",
              "        vertical-align: top;\n",
              "    }\n",
              "\n",
              "    .dataframe thead th {\n",
              "        text-align: right;\n",
              "    }\n",
              "</style>\n",
              "<table border=\"1\" class=\"dataframe\">\n",
              "  <thead>\n",
              "    <tr style=\"text-align: right;\">\n",
              "      <th></th>\n",
              "      <th>Subject</th>\n",
              "      <th>OKPD2</th>\n",
              "    </tr>\n",
              "  </thead>\n",
              "  <tbody>\n",
              "    <tr>\n",
              "      <th>723176</th>\n",
              "      <td>Оказание услуг по техническому обслуживанию ли...</td>\n",
              "      <td>43.2</td>\n",
              "    </tr>\n",
              "    <tr>\n",
              "      <th>1232417</th>\n",
              "      <td>Выполнение работ, в результате которых обеспеч...</td>\n",
              "      <td>71.1</td>\n",
              "    </tr>\n",
              "    <tr>\n",
              "      <th>1192389</th>\n",
              "      <td>«Капитальный ремонт систем теплоснабжения МО «...</td>\n",
              "      <td>43.2</td>\n",
              "    </tr>\n",
              "    <tr>\n",
              "      <th>1302262</th>\n",
              "      <td>Оказание услуг по техническому обслуживанию и ...</td>\n",
              "      <td>43.2</td>\n",
              "    </tr>\n",
              "    <tr>\n",
              "      <th>951491</th>\n",
              "      <td>Выполнение работ по отсыпке автомобильных доро...</td>\n",
              "      <td>42.1</td>\n",
              "    </tr>\n",
              "    <tr>\n",
              "      <th>212679</th>\n",
              "      <td>Приобретение у застройщика жилого помещения (д...</td>\n",
              "      <td>41.2</td>\n",
              "    </tr>\n",
              "    <tr>\n",
              "      <th>724436</th>\n",
              "      <td>Установка оконных решеток, оконных фрамуг в ин...</td>\n",
              "      <td>43.3</td>\n",
              "    </tr>\n",
              "    <tr>\n",
              "      <th>1415566</th>\n",
              "      <td>Ремонт кровли лит. А (основн . строение) здани...</td>\n",
              "      <td>43.9</td>\n",
              "    </tr>\n",
              "    <tr>\n",
              "      <th>537744</th>\n",
              "      <td>Устройство систем видеонаблюдения, аудиооповещ...</td>\n",
              "      <td>43.2</td>\n",
              "    </tr>\n",
              "    <tr>\n",
              "      <th>287425</th>\n",
              "      <td>Оказание услуг по разработке эскизного проекта...</td>\n",
              "      <td>71.1</td>\n",
              "    </tr>\n",
              "  </tbody>\n",
              "</table>\n",
              "</div>\n",
              "    <div class=\"colab-df-buttons\">\n",
              "\n",
              "  <div class=\"colab-df-container\">\n",
              "    <button class=\"colab-df-convert\" onclick=\"convertToInteractive('df-f3c2fc55-2ff9-4c97-8a15-d7b1a034f592')\"\n",
              "            title=\"Convert this dataframe to an interactive table.\"\n",
              "            style=\"display:none;\">\n",
              "\n",
              "  <svg xmlns=\"http://www.w3.org/2000/svg\" height=\"24px\" viewBox=\"0 -960 960 960\">\n",
              "    <path d=\"M120-120v-720h720v720H120Zm60-500h600v-160H180v160Zm220 220h160v-160H400v160Zm0 220h160v-160H400v160ZM180-400h160v-160H180v160Zm440 0h160v-160H620v160ZM180-180h160v-160H180v160Zm440 0h160v-160H620v160Z\"/>\n",
              "  </svg>\n",
              "    </button>\n",
              "\n",
              "  <style>\n",
              "    .colab-df-container {\n",
              "      display:flex;\n",
              "      gap: 12px;\n",
              "    }\n",
              "\n",
              "    .colab-df-convert {\n",
              "      background-color: #E8F0FE;\n",
              "      border: none;\n",
              "      border-radius: 50%;\n",
              "      cursor: pointer;\n",
              "      display: none;\n",
              "      fill: #1967D2;\n",
              "      height: 32px;\n",
              "      padding: 0 0 0 0;\n",
              "      width: 32px;\n",
              "    }\n",
              "\n",
              "    .colab-df-convert:hover {\n",
              "      background-color: #E2EBFA;\n",
              "      box-shadow: 0px 1px 2px rgba(60, 64, 67, 0.3), 0px 1px 3px 1px rgba(60, 64, 67, 0.15);\n",
              "      fill: #174EA6;\n",
              "    }\n",
              "\n",
              "    .colab-df-buttons div {\n",
              "      margin-bottom: 4px;\n",
              "    }\n",
              "\n",
              "    [theme=dark] .colab-df-convert {\n",
              "      background-color: #3B4455;\n",
              "      fill: #D2E3FC;\n",
              "    }\n",
              "\n",
              "    [theme=dark] .colab-df-convert:hover {\n",
              "      background-color: #434B5C;\n",
              "      box-shadow: 0px 1px 3px 1px rgba(0, 0, 0, 0.15);\n",
              "      filter: drop-shadow(0px 1px 2px rgba(0, 0, 0, 0.3));\n",
              "      fill: #FFFFFF;\n",
              "    }\n",
              "  </style>\n",
              "\n",
              "    <script>\n",
              "      const buttonEl =\n",
              "        document.querySelector('#df-f3c2fc55-2ff9-4c97-8a15-d7b1a034f592 button.colab-df-convert');\n",
              "      buttonEl.style.display =\n",
              "        google.colab.kernel.accessAllowed ? 'block' : 'none';\n",
              "\n",
              "      async function convertToInteractive(key) {\n",
              "        const element = document.querySelector('#df-f3c2fc55-2ff9-4c97-8a15-d7b1a034f592');\n",
              "        const dataTable =\n",
              "          await google.colab.kernel.invokeFunction('convertToInteractive',\n",
              "                                                    [key], {});\n",
              "        if (!dataTable) return;\n",
              "\n",
              "        const docLinkHtml = 'Like what you see? Visit the ' +\n",
              "          '<a target=\"_blank\" href=https://colab.research.google.com/notebooks/data_table.ipynb>data table notebook</a>'\n",
              "          + ' to learn more about interactive tables.';\n",
              "        element.innerHTML = '';\n",
              "        dataTable['output_type'] = 'display_data';\n",
              "        await google.colab.output.renderOutput(dataTable, element);\n",
              "        const docLink = document.createElement('div');\n",
              "        docLink.innerHTML = docLinkHtml;\n",
              "        element.appendChild(docLink);\n",
              "      }\n",
              "    </script>\n",
              "  </div>\n",
              "\n",
              "\n",
              "<div id=\"df-8828f211-ff61-4d60-a0cd-ab1fb6128b59\">\n",
              "  <button class=\"colab-df-quickchart\" onclick=\"quickchart('df-8828f211-ff61-4d60-a0cd-ab1fb6128b59')\"\n",
              "            title=\"Suggest charts\"\n",
              "            style=\"display:none;\">\n",
              "\n",
              "<svg xmlns=\"http://www.w3.org/2000/svg\" height=\"24px\"viewBox=\"0 0 24 24\"\n",
              "     width=\"24px\">\n",
              "    <g>\n",
              "        <path d=\"M19 3H5c-1.1 0-2 .9-2 2v14c0 1.1.9 2 2 2h14c1.1 0 2-.9 2-2V5c0-1.1-.9-2-2-2zM9 17H7v-7h2v7zm4 0h-2V7h2v10zm4 0h-2v-4h2v4z\"/>\n",
              "    </g>\n",
              "</svg>\n",
              "  </button>\n",
              "\n",
              "<style>\n",
              "  .colab-df-quickchart {\n",
              "      --bg-color: #E8F0FE;\n",
              "      --fill-color: #1967D2;\n",
              "      --hover-bg-color: #E2EBFA;\n",
              "      --hover-fill-color: #174EA6;\n",
              "      --disabled-fill-color: #AAA;\n",
              "      --disabled-bg-color: #DDD;\n",
              "  }\n",
              "\n",
              "  [theme=dark] .colab-df-quickchart {\n",
              "      --bg-color: #3B4455;\n",
              "      --fill-color: #D2E3FC;\n",
              "      --hover-bg-color: #434B5C;\n",
              "      --hover-fill-color: #FFFFFF;\n",
              "      --disabled-bg-color: #3B4455;\n",
              "      --disabled-fill-color: #666;\n",
              "  }\n",
              "\n",
              "  .colab-df-quickchart {\n",
              "    background-color: var(--bg-color);\n",
              "    border: none;\n",
              "    border-radius: 50%;\n",
              "    cursor: pointer;\n",
              "    display: none;\n",
              "    fill: var(--fill-color);\n",
              "    height: 32px;\n",
              "    padding: 0;\n",
              "    width: 32px;\n",
              "  }\n",
              "\n",
              "  .colab-df-quickchart:hover {\n",
              "    background-color: var(--hover-bg-color);\n",
              "    box-shadow: 0 1px 2px rgba(60, 64, 67, 0.3), 0 1px 3px 1px rgba(60, 64, 67, 0.15);\n",
              "    fill: var(--button-hover-fill-color);\n",
              "  }\n",
              "\n",
              "  .colab-df-quickchart-complete:disabled,\n",
              "  .colab-df-quickchart-complete:disabled:hover {\n",
              "    background-color: var(--disabled-bg-color);\n",
              "    fill: var(--disabled-fill-color);\n",
              "    box-shadow: none;\n",
              "  }\n",
              "\n",
              "  .colab-df-spinner {\n",
              "    border: 2px solid var(--fill-color);\n",
              "    border-color: transparent;\n",
              "    border-bottom-color: var(--fill-color);\n",
              "    animation:\n",
              "      spin 1s steps(1) infinite;\n",
              "  }\n",
              "\n",
              "  @keyframes spin {\n",
              "    0% {\n",
              "      border-color: transparent;\n",
              "      border-bottom-color: var(--fill-color);\n",
              "      border-left-color: var(--fill-color);\n",
              "    }\n",
              "    20% {\n",
              "      border-color: transparent;\n",
              "      border-left-color: var(--fill-color);\n",
              "      border-top-color: var(--fill-color);\n",
              "    }\n",
              "    30% {\n",
              "      border-color: transparent;\n",
              "      border-left-color: var(--fill-color);\n",
              "      border-top-color: var(--fill-color);\n",
              "      border-right-color: var(--fill-color);\n",
              "    }\n",
              "    40% {\n",
              "      border-color: transparent;\n",
              "      border-right-color: var(--fill-color);\n",
              "      border-top-color: var(--fill-color);\n",
              "    }\n",
              "    60% {\n",
              "      border-color: transparent;\n",
              "      border-right-color: var(--fill-color);\n",
              "    }\n",
              "    80% {\n",
              "      border-color: transparent;\n",
              "      border-right-color: var(--fill-color);\n",
              "      border-bottom-color: var(--fill-color);\n",
              "    }\n",
              "    90% {\n",
              "      border-color: transparent;\n",
              "      border-bottom-color: var(--fill-color);\n",
              "    }\n",
              "  }\n",
              "</style>\n",
              "\n",
              "  <script>\n",
              "    async function quickchart(key) {\n",
              "      const quickchartButtonEl =\n",
              "        document.querySelector('#' + key + ' button');\n",
              "      quickchartButtonEl.disabled = true;  // To prevent multiple clicks.\n",
              "      quickchartButtonEl.classList.add('colab-df-spinner');\n",
              "      try {\n",
              "        const charts = await google.colab.kernel.invokeFunction(\n",
              "            'suggestCharts', [key], {});\n",
              "      } catch (error) {\n",
              "        console.error('Error during call to suggestCharts:', error);\n",
              "      }\n",
              "      quickchartButtonEl.classList.remove('colab-df-spinner');\n",
              "      quickchartButtonEl.classList.add('colab-df-quickchart-complete');\n",
              "    }\n",
              "    (() => {\n",
              "      let quickchartButtonEl =\n",
              "        document.querySelector('#df-8828f211-ff61-4d60-a0cd-ab1fb6128b59 button');\n",
              "      quickchartButtonEl.style.display =\n",
              "        google.colab.kernel.accessAllowed ? 'block' : 'none';\n",
              "    })();\n",
              "  </script>\n",
              "</div>\n",
              "    </div>\n",
              "  </div>\n"
            ],
            "application/vnd.google.colaboratory.intrinsic+json": {
              "type": "dataframe",
              "summary": "{\n  \"name\": \"df_work\",\n  \"rows\": 10,\n  \"fields\": [\n    {\n      \"column\": \"Subject\",\n      \"properties\": {\n        \"dtype\": \"string\",\n        \"num_unique_values\": 10,\n        \"samples\": [\n          \"\\u0423\\u0441\\u0442\\u0440\\u043e\\u0439\\u0441\\u0442\\u0432\\u043e \\u0441\\u0438\\u0441\\u0442\\u0435\\u043c \\u0432\\u0438\\u0434\\u0435\\u043e\\u043d\\u0430\\u0431\\u043b\\u044e\\u0434\\u0435\\u043d\\u0438\\u044f, \\u0430\\u0443\\u0434\\u0438\\u043e\\u043e\\u043f\\u043e\\u0432\\u0435\\u0449\\u0435\\u043d\\u0438\\u044f \\u0438 \\u0441\\u0435\\u0442\\u0435\\u0439 \\u0441\\u0432\\u044f\\u0437\\u0438 \\u043d\\u0430 \\u043e\\u0431\\u044a\\u0435\\u043a\\u0442\\u0435 \\\\\\u041f\\u0435\\u0448\\u0435\\u0445\\u043e\\u0434\\u043d\\u0430\\u044f \\u0437\\u043e\\u043d\\u0430 \\u043f\\u043e \\u0443\\u043b. \\u0418\\u043d\\u0442\\u0435\\u0440\\u043d\\u0430\\u0446\\u0438\\u043e\\u043d\\u0430\\u043b\\u044c\\u043d\\u043e\\u0439\\\\\\\" (1 \\u044d\\u0442\\u0430\\u043f)\\\"\",\n          \"\\u0412\\u044b\\u043f\\u043e\\u043b\\u043d\\u0435\\u043d\\u0438\\u0435 \\u0440\\u0430\\u0431\\u043e\\u0442, \\u0432 \\u0440\\u0435\\u0437\\u0443\\u043b\\u044c\\u0442\\u0430\\u0442\\u0435 \\u043a\\u043e\\u0442\\u043e\\u0440\\u044b\\u0445 \\u043e\\u0431\\u0435\\u0441\\u043f\\u0435\\u0447\\u0438\\u0432\\u0430\\u0435\\u0442\\u0441\\u044f \\u043f\\u043e\\u0434\\u0433\\u043e\\u0442\\u043e\\u0432\\u043a\\u0430 \\u0434\\u043e\\u043a\\u0443\\u043c\\u0435\\u043d\\u0442\\u043e\\u0432, \\u0441\\u043e\\u0434\\u0435\\u0440\\u0436\\u0430\\u0449\\u0438\\u0445 \\u043d\\u0435\\u043e\\u0431\\u0445\\u043e\\u0434\\u0438\\u043c\\u044b\\u0435 \\u0434\\u043b\\u044f \\u043e\\u0441\\u0443\\u0449\\u0435\\u0441\\u0442\\u0432\\u043b\\u0435\\u043d\\u0438\\u044f \\u043a\\u0430\\u0434\\u0430\\u0441\\u0442\\u0440\\u043e\\u0432\\u043e\\u0433\\u043e \\u0443\\u0447\\u0451\\u0442\\u0430 \\u0441\\u0432\\u0435\\u0434\\u0435\\u043d\\u0438\\u044f \\u043e \\u0437\\u0435\\u043c\\u0435\\u043b\\u044c\\u043d\\u044b\\u0445 \\u0443\\u0447\\u0430\\u0441\\u0442\\u043a\\u0430\\u0445, \\u043d\\u0430\\u0445\\u043e\\u0434\\u044f\\u0449\\u0438\\u0445\\u0441\\u044f \\u0432 \\u0441\\u043e\\u0431\\u0441\\u0442\\u0432\\u0435\\u043d\\u043d\\u043e\\u0441\\u0442\\u0438 \\u0420\\u043e\\u0441\\u0441\\u0438\\u0439\\u0441\\u043a\\u043e\\u0439 \\u0424\\u0435\\u0434\\u0435\\u0440\\u0430\\u0446\\u0438\\u0438, \\u0440\\u0430\\u0441\\u043f\\u043e\\u043b\\u043e\\u0436\\u0435\\u043d\\u043d\\u044b\\u0445 \\u043d\\u0430 \\u0442\\u0435\\u0440\\u0440\\u0438\\u0442\\u043e\\u0440\\u0438\\u0438 \\u041a\\u0443\\u0440\\u0441\\u043a\\u043e\\u0439 \\u0438 \\u0411\\u0435\\u043b\\u0433\\u043e\\u0440\\u043e\\u0434\\u0441\\u043a\\u043e\\u0439 \\u043e\\u0431\\u043b\\u0430\\u0441\\u0442\\u044f\\u0445\",\n          \"\\u041f\\u0440\\u0438\\u043e\\u0431\\u0440\\u0435\\u0442\\u0435\\u043d\\u0438\\u0435 \\u0443 \\u0437\\u0430\\u0441\\u0442\\u0440\\u043e\\u0439\\u0449\\u0438\\u043a\\u0430 \\u0436\\u0438\\u043b\\u043e\\u0433\\u043e \\u043f\\u043e\\u043c\\u0435\\u0449\\u0435\\u043d\\u0438\\u044f (\\u0434\\u0432\\u0443\\u0445\\u043a\\u043e\\u043c\\u043d\\u0430\\u0442\\u043d\\u043e\\u0439 \\u043a\\u0432\\u0430\\u0440\\u0442\\u0438\\u0440\\u044b) \\u0432 \\u043c\\u043d\\u043e\\u0433\\u043e\\u043a\\u0432\\u0430\\u0440\\u0442\\u0438\\u0440\\u043d\\u043e\\u043c \\u0434\\u043e\\u043c\\u0435, \\u0441\\u0442\\u0440\\u043e\\u0438\\u0442\\u0435\\u043b\\u044c\\u0441\\u0442\\u0432\\u043e \\u043a\\u043e\\u0442\\u043e\\u0440\\u043e\\u0433\\u043e \\u043d\\u0435 \\u0437\\u0430\\u0432\\u0435\\u0440\\u0448\\u0435\\u043d\\u043e, \\u0432 \\u0441\\u043e\\u0431\\u0441\\u0442\\u0432\\u0435\\u043d\\u043d\\u043e\\u0441\\u0442\\u044c \\u043c\\u0443\\u043d\\u0438\\u0446\\u0438\\u043f\\u0430\\u043b\\u044c\\u043d\\u043e\\u0433\\u043e \\u043e\\u0431\\u0440\\u0430\\u0437\\u043e\\u0432\\u0430\\u043d\\u0438\\u044f \\\\\\u0413\\u043e\\u0440\\u043e\\u0434 \\u0421\\u0430\\u0440\\u0430\\u0442\\u043e\\u0432\\\\\\\" \\u0432 \\u0440\\u0430\\u043c\\u043a\\u0430\\u0445 \\u0440\\u0435\\u0430\\u043b\\u0438\\u0437\\u0430\\u0446\\u0438\\u0438 \\u0432\\u0435\\u0434\\u043e\\u043c\\u0441\\u0442\\u0432\\u0435\\u043d\\u043d\\u043e\\u0439 \\u0446\\u0435\\u043b\\u0435\\u0432\\u043e\\u0439 \\u043f\\u0440\\u043e\\u0433\\u0440\\u0430\\u043c\\u043c\\u044b \\\\\\\"\\u041f\\u0435\\u0440\\u0435\\u0441\\u0435\\u043b\\u0435\\u043d\\u0438\\u0435 \\u0433\\u0440\\u0430\\u0436\\u0434\\u0430\\u043d \\u0433\\u043e\\u0440\\u043e\\u0434\\u0430 \\u0421\\u0430\\u0440\\u0430\\u0442\\u043e\\u0432\\u0430 \\u0438\\u0437 \\u0430\\u0432\\u0430\\u0440\\u0438\\u0439\\u043d\\u043e\\u0433\\u043e \\u0436\\u0438\\u043b\\u0438\\u0449\\u043d\\u043e\\u0433\\u043e \\u0444\\u043e\\u043d\\u0434\\u0430 \\u0432 2013-2017 \\u0433\\u043e\\u0434\\u0430\\u0445\\\\\\\"\\\"\"\n        ],\n        \"semantic_type\": \"\",\n        \"description\": \"\"\n      }\n    },\n    {\n      \"column\": \"OKPD2\",\n      \"properties\": {\n        \"dtype\": \"string\",\n        \"num_unique_values\": 6,\n        \"samples\": [\n          \"43.2\",\n          \"71.1\",\n          \"43.9\"\n        ],\n        \"semantic_type\": \"\",\n        \"description\": \"\"\n      }\n    }\n  ]\n}"
            }
          },
          "metadata": {},
          "execution_count": 11
        }
      ]
    },
    {
      "cell_type": "code",
      "source": [
        "df_work.shape"
      ],
      "metadata": {
        "colab": {
          "base_uri": "https://localhost:8080/"
        },
        "id": "BmGwDU93epmK",
        "outputId": "b9ce7fcb-660a-496c-ce4e-32ec4846c134"
      },
      "execution_count": 8,
      "outputs": [
        {
          "output_type": "execute_result",
          "data": {
            "text/plain": [
              "(1764647, 2)"
            ]
          },
          "metadata": {},
          "execution_count": 8
        }
      ]
    },
    {
      "cell_type": "code",
      "source": [
        "df_work.info()"
      ],
      "metadata": {
        "colab": {
          "base_uri": "https://localhost:8080/"
        },
        "id": "U37wJrTJeyLH",
        "outputId": "03ece938-0046-4ae2-db25-9cb701a49ac6"
      },
      "execution_count": 9,
      "outputs": [
        {
          "output_type": "stream",
          "name": "stdout",
          "text": [
            "<class 'pandas.core.frame.DataFrame'>\n",
            "RangeIndex: 1764647 entries, 0 to 1764646\n",
            "Data columns (total 2 columns):\n",
            " #   Column   Dtype \n",
            "---  ------   ----- \n",
            " 0   Subject  string\n",
            " 1   OKPD2    string\n",
            "dtypes: string(2)\n",
            "memory usage: 26.9 MB\n"
          ]
        }
      ]
    }
  ]
}