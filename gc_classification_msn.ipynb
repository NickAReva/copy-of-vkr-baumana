{
  "nbformat": 4,
  "nbformat_minor": 0,
  "metadata": {
    "colab": {
      "provenance": []
    },
    "kernelspec": {
      "name": "python3",
      "display_name": "Python 3"
    },
    "language_info": {
      "name": "python"
    }
  },
  "cells": [
    {
      "cell_type": "markdown",
      "source": [
        "# Установка и подключение необходимых библиотек"
      ],
      "metadata": {
        "id": "GYRXOWSGI_-U"
      }
    },
    {
      "cell_type": "code",
      "source": [
        "# Устанавливаем библиотеки\n",
        "! pip install pandas scikit-learn nltk spacy\n",
        "! python -m spacy download ru_core_news_sm"
      ],
      "metadata": {
        "id": "Gejw4PnEPAJH"
      },
      "execution_count": null,
      "outputs": []
    },
    {
      "cell_type": "code",
      "execution_count": 251,
      "metadata": {
        "id": "ACVYWytWQBMw"
      },
      "outputs": [],
      "source": [
        "# Подключаем необходимые для работы библиотеки\n",
        "import numpy as np\n",
        "import pandas as pd\n",
        "import matplotlib.pyplot as plt\n",
        "import os\n",
        "import gdown\n",
        "import zipfile\n",
        "import warnings\n",
        "from google.colab import drive\n",
        "from sklearn.feature_extraction.text import TfidfVectorizer\n",
        "from sklearn.preprocessing import MultiLabelBinarizer, label_binarize\n",
        "from sklearn.model_selection import train_test_split\n",
        "from sklearn.linear_model import LogisticRegression\n",
        "from sklearn.ensemble import RandomForestClassifier, GradientBoostingClassifier\n",
        "from sklearn.svm import SVC\n",
        "from sklearn.neighbors import KNeighborsClassifier\n",
        "from xgboost import XGBClassifier\n",
        "from sklearn.neural_network import MLPClassifier\n",
        "from sklearn.multioutput import MultiOutputClassifier\n",
        "from sklearn.pipeline import Pipeline\n",
        "from sklearn.metrics import classification_report, roc_auc_score, accuracy_score, f1_score, roc_curve, auc\n",
        "import nltk\n",
        "import spacy\n",
        "import joblib"
      ]
    },
    {
      "cell_type": "code",
      "source": [
        "# Отключаем предупреждения\n",
        "warnings.filterwarnings('ignore')"
      ],
      "metadata": {
        "id": "E3psa9gRNH5m"
      },
      "execution_count": null,
      "outputs": []
    },
    {
      "cell_type": "markdown",
      "source": [
        "# Подготовка данных"
      ],
      "metadata": {
        "id": "XMtWdhWrJl6L"
      }
    },
    {
      "cell_type": "code",
      "source": [
        "# Монтируем Google-диск для скачивания ZIP-файла, распаковки и работы с CSV-файлом\n",
        "drive.mount('/content/drive')"
      ],
      "metadata": {
        "colab": {
          "base_uri": "https://localhost:8080/"
        },
        "id": "SOcjL_y3p_Yy",
        "outputId": "b33da0fa-f72f-4cbc-b407-5320d1ec953f"
      },
      "execution_count": null,
      "outputs": [
        {
          "output_type": "stream",
          "name": "stdout",
          "text": [
            "Drive already mounted at /content/drive; to attempt to forcibly remount, call drive.mount(\"/content/drive\", force_remount=True).\n"
          ]
        }
      ]
    },
    {
      "cell_type": "code",
      "source": [
        "# Задаем имя ZIP-файла с записями о контрактах\n",
        "name_zip = 'fz.zip'"
      ],
      "metadata": {
        "id": "-GKw8roJ80MN"
      },
      "execution_count": null,
      "outputs": []
    },
    {
      "cell_type": "code",
      "source": [
        "# Скачиваем ZIP-файл с записями о контрактах с Google-диска. Размер ZIP-файла - 2,3 Гб\n",
        "url = 'https://drive.google.com/uc?id=1sRHx27O3NgTivrrQHdBdTAqxdCYNmARW'\n",
        "gdown.download(url, name_zip, quiet=False)"
      ],
      "metadata": {
        "id": "jpxTLFDsNwUM",
        "colab": {
          "base_uri": "https://localhost:8080/",
          "height": 126
        },
        "outputId": "f318e07e-45e6-464f-e102-5de11bb61b42"
      },
      "execution_count": null,
      "outputs": [
        {
          "output_type": "stream",
          "name": "stderr",
          "text": [
            "Downloading...\n",
            "From (original): https://drive.google.com/uc?id=1sRHx27O3NgTivrrQHdBdTAqxdCYNmARW\n",
            "From (redirected): https://drive.google.com/uc?id=1sRHx27O3NgTivrrQHdBdTAqxdCYNmARW&confirm=t&uuid=61a5a9fc-a8a1-4704-a6fb-4952fd320285\n",
            "To: /content/fz.zip\n",
            "100%|██████████| 2.47G/2.47G [00:42<00:00, 57.7MB/s]\n"
          ]
        },
        {
          "output_type": "execute_result",
          "data": {
            "text/plain": [
              "'fz.zip'"
            ],
            "application/vnd.google.colaboratory.intrinsic+json": {
              "type": "string"
            }
          },
          "metadata": {},
          "execution_count": 7
        }
      ]
    },
    {
      "cell_type": "code",
      "source": [
        "# Распаковываем ZIP-файл с записями о контрактах. Размер CSV-файла - 26 Гб\n",
        "with zipfile.ZipFile(name_zip, 'r') as zip_ref:\n",
        "  zip_ref.extractall()"
      ],
      "metadata": {
        "id": "K2xQG8YUT5s4"
      },
      "execution_count": null,
      "outputs": []
    },
    {
      "cell_type": "code",
      "source": [
        "# Проверяем наличие CSV-файла в каталоге и присваиваем ему имя\n",
        "name_csv = None\n",
        "for file in os.listdir():\n",
        "  if file.endswith('.csv'):\n",
        "    name_csv = file\n",
        "    break\n",
        "\n",
        "if name_csv is None:\n",
        "  raise FileNotFoundError(\"В ZIP-архиве CSV-файл не найден\")"
      ],
      "metadata": {
        "id": "yc8qdKUaWLyH"
      },
      "execution_count": null,
      "outputs": []
    },
    {
      "cell_type": "markdown",
      "source": [
        "# Предобработка данных"
      ],
      "metadata": {
        "id": "FLMXIMWCKExc"
      }
    },
    {
      "cell_type": "code",
      "source": [
        "df_original = pd.DataFrame()\n",
        "# Определяем типы необходимых записей для анализа\n",
        "type_cols = {'Subject': 'string', 'OKPD2': 'string'}\n",
        "# Читаем данные из супербольшого CSV-файла в датафрейм кусками, одновременно удаляя ненужные для анализа столбцы и строки с пустыми значениями. В CSV-файле содержатся около 29 млн записей о контрактах, из них порядка 1,76 млн записей - нужных нам кодов ОКПД2\n",
        "with pd.read_csv(name_csv, chunksize=100000, encoding='utf-8', on_bad_lines=\"skip\", delimiter=',', header=None, usecols=[11, 26], names=['Subject', 'OKPD2'], dtype=type_cols) as reader:\n",
        "  for chunk in reader:\n",
        "    # Отфильтровываем записи о контрактах, оставляя записи групп ОКПД2 41, 42, 43, 71.1\n",
        "    chunk = chunk[(chunk['OKPD2'].str.len() <= 4) & (chunk['OKPD2'].str.contains('^41.') | chunk['OKPD2'].str.contains('^42.') | chunk['OKPD2'].str.contains('^43.') | chunk['OKPD2'].str.contains('^71.1'))]\n",
        "    # Удаляем из датафрейма строки с неопределенным предметом закупки и строки с пустыми значениями\n",
        "    chunk = chunk.loc[chunk['Subject'] != '<НЕ ОПРЕДЕЛЕНО>']\n",
        "    chunk.dropna\n",
        "    # Добавляем текущий chunk в итоговый большой датафрейм\n",
        "    df_original = pd.concat([df_original, chunk], ignore_index=True)"
      ],
      "metadata": {
        "id": "Wp2sVIpAYMmI"
      },
      "execution_count": null,
      "outputs": []
    },
    {
      "cell_type": "code",
      "source": [
        "# Создаем рабочий датафрейм\n",
        "df_work = df_original"
      ],
      "metadata": {
        "id": "7ITmpwnieVAB"
      },
      "execution_count": null,
      "outputs": []
    },
    {
      "cell_type": "code",
      "source": [
        "# Сбрасываем индексы в датафрейме\n",
        "df_work = df_work.reset_index()\n",
        "del df_work['index']"
      ],
      "metadata": {
        "id": "od80TrqyZ3cE"
      },
      "execution_count": null,
      "outputs": []
    },
    {
      "cell_type": "markdown",
      "source": [
        "# Предварительный анализ полученного датафрейма"
      ],
      "metadata": {
        "id": "2JBRvxFMKTFg"
      }
    },
    {
      "cell_type": "code",
      "source": [
        "# 10 случайных записей\n",
        "df_work.sample(10)"
      ],
      "metadata": {
        "colab": {
          "base_uri": "https://localhost:8080/",
          "height": 359
        },
        "id": "oG-OYHLpeh_x",
        "outputId": "4ba02a52-2bfa-4912-a6be-a9f72a2cbc65"
      },
      "execution_count": 222,
      "outputs": [
        {
          "output_type": "execute_result",
          "data": {
            "text/plain": [
              "                                                   Subject OKPD2  \\\n",
              "1549910  Осуществление строительного контроля по объект...  71.1   \n",
              "227119                                 Строительство моста  42.1   \n",
              "1604495  Выполнение работ по капитальному ремонту помещ...  43.2   \n",
              "169157   Ямочный ремонт асфальтобетонного покрытия по у...  42.1   \n",
              "1644827  На выполнение работ по установке ограждения ск...  43.2   \n",
              "1540525  Капитальный ремонт водонапорных башен в с.Янур...  43.2   \n",
              "1241653  Текущий ремонт по утеплению комнат 218, 219, 2...  43.3   \n",
              "1197139  Разработка проектной документации на ремонт ав...  71.1   \n",
              "74082    43.21.10.290 - Выполнение работ по текущему со...  43.2   \n",
              "490002   Выполнение работ по дополнительному содержанию...  42.1   \n",
              "\n",
              "                            lemmatized_Subject_of_Contract  \\\n",
              "1549910  осуществление строительный контроль объект стр...   \n",
              "227119                                  строительство мост   \n",
              "1604495  выполнение работа капитальный ремонт помещение...   \n",
              "169157   ямочный ремонт асфальтобетонный покрытие улица...   \n",
              "1644827  выполнение работа установка ограждение склад м...   \n",
              "1540525  капитальный ремонт водонапорный башня с. януру...   \n",
              "1241653  текущий ремонт утепление комната 218 219 220 з...   \n",
              "1197139  разработка проектный документация ремонт автом...   \n",
              "74082    43.21.10.290 выполнение работа текущий содержа...   \n",
              "490002   выполнение работа дополнительный содержание ав...   \n",
              "\n",
              "                                               text_Labels  \n",
              "1549910  [Услуги в области архитектуры; инженерно-техни...  \n",
              "227119   [Дороги автомобильные и железные; строительные...  \n",
              "1604495  [Работы электромонтажные; работы по монтажу во...  \n",
              "169157   [Дороги автомобильные и железные; строительные...  \n",
              "1644827  [Работы электромонтажные; работы по монтажу во...  \n",
              "1540525  [Работы электромонтажные; работы по монтажу во...  \n",
              "1241653  [Работы завершающие и отделочные в зданиях и с...  \n",
              "1197139  [Услуги в области архитектуры; инженерно-техни...  \n",
              "74082    [Работы электромонтажные; работы по монтажу во...  \n",
              "490002   [Дороги автомобильные и железные; строительные...  "
            ],
            "text/html": [
              "\n",
              "  <div id=\"df-08329fc2-79f8-48df-83fd-69f587d8a299\" class=\"colab-df-container\">\n",
              "    <div>\n",
              "<style scoped>\n",
              "    .dataframe tbody tr th:only-of-type {\n",
              "        vertical-align: middle;\n",
              "    }\n",
              "\n",
              "    .dataframe tbody tr th {\n",
              "        vertical-align: top;\n",
              "    }\n",
              "\n",
              "    .dataframe thead th {\n",
              "        text-align: right;\n",
              "    }\n",
              "</style>\n",
              "<table border=\"1\" class=\"dataframe\">\n",
              "  <thead>\n",
              "    <tr style=\"text-align: right;\">\n",
              "      <th></th>\n",
              "      <th>Subject</th>\n",
              "      <th>OKPD2</th>\n",
              "      <th>lemmatized_Subject_of_Contract</th>\n",
              "      <th>text_Labels</th>\n",
              "    </tr>\n",
              "  </thead>\n",
              "  <tbody>\n",
              "    <tr>\n",
              "      <th>1549910</th>\n",
              "      <td>Осуществление строительного контроля по объект...</td>\n",
              "      <td>71.1</td>\n",
              "      <td>осуществление строительный контроль объект стр...</td>\n",
              "      <td>[Услуги в области архитектуры; инженерно-техни...</td>\n",
              "    </tr>\n",
              "    <tr>\n",
              "      <th>227119</th>\n",
              "      <td>Строительство моста</td>\n",
              "      <td>42.1</td>\n",
              "      <td>строительство мост</td>\n",
              "      <td>[Дороги автомобильные и железные; строительные...</td>\n",
              "    </tr>\n",
              "    <tr>\n",
              "      <th>1604495</th>\n",
              "      <td>Выполнение работ по капитальному ремонту помещ...</td>\n",
              "      <td>43.2</td>\n",
              "      <td>выполнение работа капитальный ремонт помещение...</td>\n",
              "      <td>[Работы электромонтажные; работы по монтажу во...</td>\n",
              "    </tr>\n",
              "    <tr>\n",
              "      <th>169157</th>\n",
              "      <td>Ямочный ремонт асфальтобетонного покрытия по у...</td>\n",
              "      <td>42.1</td>\n",
              "      <td>ямочный ремонт асфальтобетонный покрытие улица...</td>\n",
              "      <td>[Дороги автомобильные и железные; строительные...</td>\n",
              "    </tr>\n",
              "    <tr>\n",
              "      <th>1644827</th>\n",
              "      <td>На выполнение работ по установке ограждения ск...</td>\n",
              "      <td>43.2</td>\n",
              "      <td>выполнение работа установка ограждение склад м...</td>\n",
              "      <td>[Работы электромонтажные; работы по монтажу во...</td>\n",
              "    </tr>\n",
              "    <tr>\n",
              "      <th>1540525</th>\n",
              "      <td>Капитальный ремонт водонапорных башен в с.Янур...</td>\n",
              "      <td>43.2</td>\n",
              "      <td>капитальный ремонт водонапорный башня с. януру...</td>\n",
              "      <td>[Работы электромонтажные; работы по монтажу во...</td>\n",
              "    </tr>\n",
              "    <tr>\n",
              "      <th>1241653</th>\n",
              "      <td>Текущий ремонт по утеплению комнат 218, 219, 2...</td>\n",
              "      <td>43.3</td>\n",
              "      <td>текущий ремонт утепление комната 218 219 220 з...</td>\n",
              "      <td>[Работы завершающие и отделочные в зданиях и с...</td>\n",
              "    </tr>\n",
              "    <tr>\n",
              "      <th>1197139</th>\n",
              "      <td>Разработка проектной документации на ремонт ав...</td>\n",
              "      <td>71.1</td>\n",
              "      <td>разработка проектный документация ремонт автом...</td>\n",
              "      <td>[Услуги в области архитектуры; инженерно-техни...</td>\n",
              "    </tr>\n",
              "    <tr>\n",
              "      <th>74082</th>\n",
              "      <td>43.21.10.290 - Выполнение работ по текущему со...</td>\n",
              "      <td>43.2</td>\n",
              "      <td>43.21.10.290 выполнение работа текущий содержа...</td>\n",
              "      <td>[Работы электромонтажные; работы по монтажу во...</td>\n",
              "    </tr>\n",
              "    <tr>\n",
              "      <th>490002</th>\n",
              "      <td>Выполнение работ по дополнительному содержанию...</td>\n",
              "      <td>42.1</td>\n",
              "      <td>выполнение работа дополнительный содержание ав...</td>\n",
              "      <td>[Дороги автомобильные и железные; строительные...</td>\n",
              "    </tr>\n",
              "  </tbody>\n",
              "</table>\n",
              "</div>\n",
              "    <div class=\"colab-df-buttons\">\n",
              "\n",
              "  <div class=\"colab-df-container\">\n",
              "    <button class=\"colab-df-convert\" onclick=\"convertToInteractive('df-08329fc2-79f8-48df-83fd-69f587d8a299')\"\n",
              "            title=\"Convert this dataframe to an interactive table.\"\n",
              "            style=\"display:none;\">\n",
              "\n",
              "  <svg xmlns=\"http://www.w3.org/2000/svg\" height=\"24px\" viewBox=\"0 -960 960 960\">\n",
              "    <path d=\"M120-120v-720h720v720H120Zm60-500h600v-160H180v160Zm220 220h160v-160H400v160Zm0 220h160v-160H400v160ZM180-400h160v-160H180v160Zm440 0h160v-160H620v160ZM180-180h160v-160H180v160Zm440 0h160v-160H620v160Z\"/>\n",
              "  </svg>\n",
              "    </button>\n",
              "\n",
              "  <style>\n",
              "    .colab-df-container {\n",
              "      display:flex;\n",
              "      gap: 12px;\n",
              "    }\n",
              "\n",
              "    .colab-df-convert {\n",
              "      background-color: #E8F0FE;\n",
              "      border: none;\n",
              "      border-radius: 50%;\n",
              "      cursor: pointer;\n",
              "      display: none;\n",
              "      fill: #1967D2;\n",
              "      height: 32px;\n",
              "      padding: 0 0 0 0;\n",
              "      width: 32px;\n",
              "    }\n",
              "\n",
              "    .colab-df-convert:hover {\n",
              "      background-color: #E2EBFA;\n",
              "      box-shadow: 0px 1px 2px rgba(60, 64, 67, 0.3), 0px 1px 3px 1px rgba(60, 64, 67, 0.15);\n",
              "      fill: #174EA6;\n",
              "    }\n",
              "\n",
              "    .colab-df-buttons div {\n",
              "      margin-bottom: 4px;\n",
              "    }\n",
              "\n",
              "    [theme=dark] .colab-df-convert {\n",
              "      background-color: #3B4455;\n",
              "      fill: #D2E3FC;\n",
              "    }\n",
              "\n",
              "    [theme=dark] .colab-df-convert:hover {\n",
              "      background-color: #434B5C;\n",
              "      box-shadow: 0px 1px 3px 1px rgba(0, 0, 0, 0.15);\n",
              "      filter: drop-shadow(0px 1px 2px rgba(0, 0, 0, 0.3));\n",
              "      fill: #FFFFFF;\n",
              "    }\n",
              "  </style>\n",
              "\n",
              "    <script>\n",
              "      const buttonEl =\n",
              "        document.querySelector('#df-08329fc2-79f8-48df-83fd-69f587d8a299 button.colab-df-convert');\n",
              "      buttonEl.style.display =\n",
              "        google.colab.kernel.accessAllowed ? 'block' : 'none';\n",
              "\n",
              "      async function convertToInteractive(key) {\n",
              "        const element = document.querySelector('#df-08329fc2-79f8-48df-83fd-69f587d8a299');\n",
              "        const dataTable =\n",
              "          await google.colab.kernel.invokeFunction('convertToInteractive',\n",
              "                                                    [key], {});\n",
              "        if (!dataTable) return;\n",
              "\n",
              "        const docLinkHtml = 'Like what you see? Visit the ' +\n",
              "          '<a target=\"_blank\" href=https://colab.research.google.com/notebooks/data_table.ipynb>data table notebook</a>'\n",
              "          + ' to learn more about interactive tables.';\n",
              "        element.innerHTML = '';\n",
              "        dataTable['output_type'] = 'display_data';\n",
              "        await google.colab.output.renderOutput(dataTable, element);\n",
              "        const docLink = document.createElement('div');\n",
              "        docLink.innerHTML = docLinkHtml;\n",
              "        element.appendChild(docLink);\n",
              "      }\n",
              "    </script>\n",
              "  </div>\n",
              "\n",
              "\n",
              "<div id=\"df-2a33ded1-5531-476a-865f-403c5d6c157e\">\n",
              "  <button class=\"colab-df-quickchart\" onclick=\"quickchart('df-2a33ded1-5531-476a-865f-403c5d6c157e')\"\n",
              "            title=\"Suggest charts\"\n",
              "            style=\"display:none;\">\n",
              "\n",
              "<svg xmlns=\"http://www.w3.org/2000/svg\" height=\"24px\"viewBox=\"0 0 24 24\"\n",
              "     width=\"24px\">\n",
              "    <g>\n",
              "        <path d=\"M19 3H5c-1.1 0-2 .9-2 2v14c0 1.1.9 2 2 2h14c1.1 0 2-.9 2-2V5c0-1.1-.9-2-2-2zM9 17H7v-7h2v7zm4 0h-2V7h2v10zm4 0h-2v-4h2v4z\"/>\n",
              "    </g>\n",
              "</svg>\n",
              "  </button>\n",
              "\n",
              "<style>\n",
              "  .colab-df-quickchart {\n",
              "      --bg-color: #E8F0FE;\n",
              "      --fill-color: #1967D2;\n",
              "      --hover-bg-color: #E2EBFA;\n",
              "      --hover-fill-color: #174EA6;\n",
              "      --disabled-fill-color: #AAA;\n",
              "      --disabled-bg-color: #DDD;\n",
              "  }\n",
              "\n",
              "  [theme=dark] .colab-df-quickchart {\n",
              "      --bg-color: #3B4455;\n",
              "      --fill-color: #D2E3FC;\n",
              "      --hover-bg-color: #434B5C;\n",
              "      --hover-fill-color: #FFFFFF;\n",
              "      --disabled-bg-color: #3B4455;\n",
              "      --disabled-fill-color: #666;\n",
              "  }\n",
              "\n",
              "  .colab-df-quickchart {\n",
              "    background-color: var(--bg-color);\n",
              "    border: none;\n",
              "    border-radius: 50%;\n",
              "    cursor: pointer;\n",
              "    display: none;\n",
              "    fill: var(--fill-color);\n",
              "    height: 32px;\n",
              "    padding: 0;\n",
              "    width: 32px;\n",
              "  }\n",
              "\n",
              "  .colab-df-quickchart:hover {\n",
              "    background-color: var(--hover-bg-color);\n",
              "    box-shadow: 0 1px 2px rgba(60, 64, 67, 0.3), 0 1px 3px 1px rgba(60, 64, 67, 0.15);\n",
              "    fill: var(--button-hover-fill-color);\n",
              "  }\n",
              "\n",
              "  .colab-df-quickchart-complete:disabled,\n",
              "  .colab-df-quickchart-complete:disabled:hover {\n",
              "    background-color: var(--disabled-bg-color);\n",
              "    fill: var(--disabled-fill-color);\n",
              "    box-shadow: none;\n",
              "  }\n",
              "\n",
              "  .colab-df-spinner {\n",
              "    border: 2px solid var(--fill-color);\n",
              "    border-color: transparent;\n",
              "    border-bottom-color: var(--fill-color);\n",
              "    animation:\n",
              "      spin 1s steps(1) infinite;\n",
              "  }\n",
              "\n",
              "  @keyframes spin {\n",
              "    0% {\n",
              "      border-color: transparent;\n",
              "      border-bottom-color: var(--fill-color);\n",
              "      border-left-color: var(--fill-color);\n",
              "    }\n",
              "    20% {\n",
              "      border-color: transparent;\n",
              "      border-left-color: var(--fill-color);\n",
              "      border-top-color: var(--fill-color);\n",
              "    }\n",
              "    30% {\n",
              "      border-color: transparent;\n",
              "      border-left-color: var(--fill-color);\n",
              "      border-top-color: var(--fill-color);\n",
              "      border-right-color: var(--fill-color);\n",
              "    }\n",
              "    40% {\n",
              "      border-color: transparent;\n",
              "      border-right-color: var(--fill-color);\n",
              "      border-top-color: var(--fill-color);\n",
              "    }\n",
              "    60% {\n",
              "      border-color: transparent;\n",
              "      border-right-color: var(--fill-color);\n",
              "    }\n",
              "    80% {\n",
              "      border-color: transparent;\n",
              "      border-right-color: var(--fill-color);\n",
              "      border-bottom-color: var(--fill-color);\n",
              "    }\n",
              "    90% {\n",
              "      border-color: transparent;\n",
              "      border-bottom-color: var(--fill-color);\n",
              "    }\n",
              "  }\n",
              "</style>\n",
              "\n",
              "  <script>\n",
              "    async function quickchart(key) {\n",
              "      const quickchartButtonEl =\n",
              "        document.querySelector('#' + key + ' button');\n",
              "      quickchartButtonEl.disabled = true;  // To prevent multiple clicks.\n",
              "      quickchartButtonEl.classList.add('colab-df-spinner');\n",
              "      try {\n",
              "        const charts = await google.colab.kernel.invokeFunction(\n",
              "            'suggestCharts', [key], {});\n",
              "      } catch (error) {\n",
              "        console.error('Error during call to suggestCharts:', error);\n",
              "      }\n",
              "      quickchartButtonEl.classList.remove('colab-df-spinner');\n",
              "      quickchartButtonEl.classList.add('colab-df-quickchart-complete');\n",
              "    }\n",
              "    (() => {\n",
              "      let quickchartButtonEl =\n",
              "        document.querySelector('#df-2a33ded1-5531-476a-865f-403c5d6c157e button');\n",
              "      quickchartButtonEl.style.display =\n",
              "        google.colab.kernel.accessAllowed ? 'block' : 'none';\n",
              "    })();\n",
              "  </script>\n",
              "</div>\n",
              "    </div>\n",
              "  </div>\n"
            ],
            "application/vnd.google.colaboratory.intrinsic+json": {
              "type": "dataframe",
              "summary": "{\n  \"name\": \"df_work\",\n  \"rows\": 10,\n  \"fields\": [\n    {\n      \"column\": \"Subject\",\n      \"properties\": {\n        \"dtype\": \"string\",\n        \"num_unique_values\": 10,\n        \"samples\": [\n          \"43.21.10.290 - \\u0412\\u044b\\u043f\\u043e\\u043b\\u043d\\u0435\\u043d\\u0438\\u0435 \\u0440\\u0430\\u0431\\u043e\\u0442 \\u043f\\u043e \\u0442\\u0435\\u043a\\u0443\\u0449\\u0435\\u043c\\u0443 \\u0441\\u043e\\u0434\\u0435\\u0440\\u0436\\u0430\\u043d\\u0438\\u044e \\u0443\\u043b\\u0438\\u0447\\u043d\\u043e\\u0433\\u043e \\u043e\\u0441\\u0432\\u0435\\u0449\\u0435\\u043d\\u0438\\u044f \\u0433\\u043e\\u0440\\u043e\\u0434\\u0430 \\u0411\\u0443\\u0434\\u0451\\u043d\\u043d\\u043e\\u0432\\u0441\\u043a\\u0430 \\u0432 2018 \\u0433\\u043e\\u0434\\u0443 \\u0434\\u043b\\u044f \\u043e\\u0431\\u0435\\u0441\\u043f\\u0435\\u0447\\u0435\\u043d\\u0438\\u044f \\u043c\\u0443\\u043d\\u0438\\u0446\\u0438\\u043f\\u0430\\u043b\\u044c\\u043d\\u044b\\u0445 \\u043d\\u0443\\u0436\\u0434\",\n          \"\\u0421\\u0442\\u0440\\u043e\\u0438\\u0442\\u0435\\u043b\\u044c\\u0441\\u0442\\u0432\\u043e \\u043c\\u043e\\u0441\\u0442\\u0430\",\n          \"\\u041a\\u0430\\u043f\\u0438\\u0442\\u0430\\u043b\\u044c\\u043d\\u044b\\u0439 \\u0440\\u0435\\u043c\\u043e\\u043d\\u0442 \\u0432\\u043e\\u0434\\u043e\\u043d\\u0430\\u043f\\u043e\\u0440\\u043d\\u044b\\u0445 \\u0431\\u0430\\u0448\\u0435\\u043d \\u0432 \\u0441.\\u042f\\u043d\\u0443\\u0440\\u0443\\u0441\\u043e\\u0432\\u043e \\u0418\\u0448\\u0438\\u043c\\u0431\\u0430\\u0439\\u0441\\u043a\\u043e\\u0433\\u043e \\u0440\\u0430\\u0439\\u043e\\u043d\\u0430 \\u0420\\u0411\"\n        ],\n        \"semantic_type\": \"\",\n        \"description\": \"\"\n      }\n    },\n    {\n      \"column\": \"OKPD2\",\n      \"properties\": {\n        \"dtype\": \"string\",\n        \"num_unique_values\": 4,\n        \"samples\": [\n          \"42.1\",\n          \"43.3\",\n          \"71.1\"\n        ],\n        \"semantic_type\": \"\",\n        \"description\": \"\"\n      }\n    },\n    {\n      \"column\": \"lemmatized_Subject_of_Contract\",\n      \"properties\": {\n        \"dtype\": \"string\",\n        \"num_unique_values\": 10,\n        \"samples\": [\n          \"43.21.10.290 \\u0432\\u044b\\u043f\\u043e\\u043b\\u043d\\u0435\\u043d\\u0438\\u0435 \\u0440\\u0430\\u0431\\u043e\\u0442\\u0430 \\u0442\\u0435\\u043a\\u0443\\u0449\\u0438\\u0439 \\u0441\\u043e\\u0434\\u0435\\u0440\\u0436\\u0430\\u043d\\u0438\\u0435 \\u0443\\u043b\\u0438\\u0447\\u043d\\u044b\\u0439 \\u043e\\u0441\\u0432\\u0435\\u0449\\u0435\\u043d\\u0438\\u0435 \\u0433\\u043e\\u0440\\u043e\\u0434 \\u0431\\u0443\\u0434\\u0451\\u043d\\u043d\\u043e\\u0432\\u0441\\u043a 2018 \\u0433\\u043e\\u0434 \\u043e\\u0431\\u0435\\u0441\\u043f\\u0435\\u0447\\u0435\\u043d\\u0438\\u0435 \\u043c\\u0443\\u043d\\u0438\\u0446\\u0438\\u043f\\u0430\\u043b\\u044c\\u043d\\u044b\\u0439 \\u043d\\u0443\\u0436\\u0434\\u0430\",\n          \"\\u0441\\u0442\\u0440\\u043e\\u0438\\u0442\\u0435\\u043b\\u044c\\u0441\\u0442\\u0432\\u043e \\u043c\\u043e\\u0441\\u0442\",\n          \"\\u043a\\u0430\\u043f\\u0438\\u0442\\u0430\\u043b\\u044c\\u043d\\u044b\\u0439 \\u0440\\u0435\\u043c\\u043e\\u043d\\u0442 \\u0432\\u043e\\u0434\\u043e\\u043d\\u0430\\u043f\\u043e\\u0440\\u043d\\u044b\\u0439 \\u0431\\u0430\\u0448\\u043d\\u044f \\u0441. \\u044f\\u043d\\u0443\\u0440\\u0443\\u0441\\u043e\\u0432\\u043e \\u0438\\u0448\\u0438\\u043c\\u0431\\u0430\\u0439\\u0441\\u043a\\u0438\\u0439 \\u0440\\u0430\\u0439\\u043e\\u043d \\u0440\\u0431\"\n        ],\n        \"semantic_type\": \"\",\n        \"description\": \"\"\n      }\n    },\n    {\n      \"column\": \"text_Labels\",\n      \"properties\": {\n        \"dtype\": \"object\",\n        \"semantic_type\": \"\",\n        \"description\": \"\"\n      }\n    }\n  ]\n}"
            }
          },
          "metadata": {},
          "execution_count": 222
        }
      ]
    },
    {
      "cell_type": "code",
      "source": [
        "# Размерность\n",
        "df_work.shape"
      ],
      "metadata": {
        "colab": {
          "base_uri": "https://localhost:8080/"
        },
        "id": "BmGwDU93epmK",
        "outputId": "bffd25b7-ebe6-4e18-97a7-f3c606ab283d"
      },
      "execution_count": 127,
      "outputs": [
        {
          "output_type": "execute_result",
          "data": {
            "text/plain": [
              "(100000, 4)"
            ]
          },
          "metadata": {},
          "execution_count": 127
        }
      ]
    },
    {
      "cell_type": "code",
      "source": [
        "# Типы данных\n",
        "df_work.info()"
      ],
      "metadata": {
        "colab": {
          "base_uri": "https://localhost:8080/"
        },
        "id": "U37wJrTJeyLH",
        "outputId": "8bd9b974-36d6-48ac-c8b8-de82acff993c"
      },
      "execution_count": null,
      "outputs": [
        {
          "output_type": "stream",
          "name": "stdout",
          "text": [
            "<class 'pandas.core.frame.DataFrame'>\n",
            "RangeIndex: 1764006 entries, 0 to 1764005\n",
            "Data columns (total 2 columns):\n",
            " #   Column   Dtype \n",
            "---  ------   ----- \n",
            " 0   Subject  string\n",
            " 1   OKPD2    string\n",
            "dtypes: string(2)\n",
            "memory usage: 26.9 MB\n"
          ]
        }
      ]
    },
    {
      "cell_type": "code",
      "source": [
        "# Количество записей, сгруппированных по коду ОКПД2\n",
        "df_work.groupby('OKPD2', as_index=False).agg({'Subject':'count'})"
      ],
      "metadata": {
        "id": "hgLVLWSkftSl",
        "colab": {
          "base_uri": "https://localhost:8080/",
          "height": 359
        },
        "outputId": "0425f6a7-cc05-4c51-df59-52be2036c335"
      },
      "execution_count": 244,
      "outputs": [
        {
          "output_type": "execute_result",
          "data": {
            "text/plain": [
              "  OKPD2  Subject\n",
              "0  41.1      723\n",
              "1  41.2    11214\n",
              "2  42.1    21882\n",
              "3  42.2     3281\n",
              "4  42.9     6109\n",
              "5  43.1     1979\n",
              "6  43.2    17687\n",
              "7  43.3    11312\n",
              "8  43.9    11390\n",
              "9  71.1    14423"
            ],
            "text/html": [
              "\n",
              "  <div id=\"df-db0026cc-159d-4694-bb21-f3f416cfd81b\" class=\"colab-df-container\">\n",
              "    <div>\n",
              "<style scoped>\n",
              "    .dataframe tbody tr th:only-of-type {\n",
              "        vertical-align: middle;\n",
              "    }\n",
              "\n",
              "    .dataframe tbody tr th {\n",
              "        vertical-align: top;\n",
              "    }\n",
              "\n",
              "    .dataframe thead th {\n",
              "        text-align: right;\n",
              "    }\n",
              "</style>\n",
              "<table border=\"1\" class=\"dataframe\">\n",
              "  <thead>\n",
              "    <tr style=\"text-align: right;\">\n",
              "      <th></th>\n",
              "      <th>OKPD2</th>\n",
              "      <th>Subject</th>\n",
              "    </tr>\n",
              "  </thead>\n",
              "  <tbody>\n",
              "    <tr>\n",
              "      <th>0</th>\n",
              "      <td>41.1</td>\n",
              "      <td>723</td>\n",
              "    </tr>\n",
              "    <tr>\n",
              "      <th>1</th>\n",
              "      <td>41.2</td>\n",
              "      <td>11214</td>\n",
              "    </tr>\n",
              "    <tr>\n",
              "      <th>2</th>\n",
              "      <td>42.1</td>\n",
              "      <td>21882</td>\n",
              "    </tr>\n",
              "    <tr>\n",
              "      <th>3</th>\n",
              "      <td>42.2</td>\n",
              "      <td>3281</td>\n",
              "    </tr>\n",
              "    <tr>\n",
              "      <th>4</th>\n",
              "      <td>42.9</td>\n",
              "      <td>6109</td>\n",
              "    </tr>\n",
              "    <tr>\n",
              "      <th>5</th>\n",
              "      <td>43.1</td>\n",
              "      <td>1979</td>\n",
              "    </tr>\n",
              "    <tr>\n",
              "      <th>6</th>\n",
              "      <td>43.2</td>\n",
              "      <td>17687</td>\n",
              "    </tr>\n",
              "    <tr>\n",
              "      <th>7</th>\n",
              "      <td>43.3</td>\n",
              "      <td>11312</td>\n",
              "    </tr>\n",
              "    <tr>\n",
              "      <th>8</th>\n",
              "      <td>43.9</td>\n",
              "      <td>11390</td>\n",
              "    </tr>\n",
              "    <tr>\n",
              "      <th>9</th>\n",
              "      <td>71.1</td>\n",
              "      <td>14423</td>\n",
              "    </tr>\n",
              "  </tbody>\n",
              "</table>\n",
              "</div>\n",
              "    <div class=\"colab-df-buttons\">\n",
              "\n",
              "  <div class=\"colab-df-container\">\n",
              "    <button class=\"colab-df-convert\" onclick=\"convertToInteractive('df-db0026cc-159d-4694-bb21-f3f416cfd81b')\"\n",
              "            title=\"Convert this dataframe to an interactive table.\"\n",
              "            style=\"display:none;\">\n",
              "\n",
              "  <svg xmlns=\"http://www.w3.org/2000/svg\" height=\"24px\" viewBox=\"0 -960 960 960\">\n",
              "    <path d=\"M120-120v-720h720v720H120Zm60-500h600v-160H180v160Zm220 220h160v-160H400v160Zm0 220h160v-160H400v160ZM180-400h160v-160H180v160Zm440 0h160v-160H620v160ZM180-180h160v-160H180v160Zm440 0h160v-160H620v160Z\"/>\n",
              "  </svg>\n",
              "    </button>\n",
              "\n",
              "  <style>\n",
              "    .colab-df-container {\n",
              "      display:flex;\n",
              "      gap: 12px;\n",
              "    }\n",
              "\n",
              "    .colab-df-convert {\n",
              "      background-color: #E8F0FE;\n",
              "      border: none;\n",
              "      border-radius: 50%;\n",
              "      cursor: pointer;\n",
              "      display: none;\n",
              "      fill: #1967D2;\n",
              "      height: 32px;\n",
              "      padding: 0 0 0 0;\n",
              "      width: 32px;\n",
              "    }\n",
              "\n",
              "    .colab-df-convert:hover {\n",
              "      background-color: #E2EBFA;\n",
              "      box-shadow: 0px 1px 2px rgba(60, 64, 67, 0.3), 0px 1px 3px 1px rgba(60, 64, 67, 0.15);\n",
              "      fill: #174EA6;\n",
              "    }\n",
              "\n",
              "    .colab-df-buttons div {\n",
              "      margin-bottom: 4px;\n",
              "    }\n",
              "\n",
              "    [theme=dark] .colab-df-convert {\n",
              "      background-color: #3B4455;\n",
              "      fill: #D2E3FC;\n",
              "    }\n",
              "\n",
              "    [theme=dark] .colab-df-convert:hover {\n",
              "      background-color: #434B5C;\n",
              "      box-shadow: 0px 1px 3px 1px rgba(0, 0, 0, 0.15);\n",
              "      filter: drop-shadow(0px 1px 2px rgba(0, 0, 0, 0.3));\n",
              "      fill: #FFFFFF;\n",
              "    }\n",
              "  </style>\n",
              "\n",
              "    <script>\n",
              "      const buttonEl =\n",
              "        document.querySelector('#df-db0026cc-159d-4694-bb21-f3f416cfd81b button.colab-df-convert');\n",
              "      buttonEl.style.display =\n",
              "        google.colab.kernel.accessAllowed ? 'block' : 'none';\n",
              "\n",
              "      async function convertToInteractive(key) {\n",
              "        const element = document.querySelector('#df-db0026cc-159d-4694-bb21-f3f416cfd81b');\n",
              "        const dataTable =\n",
              "          await google.colab.kernel.invokeFunction('convertToInteractive',\n",
              "                                                    [key], {});\n",
              "        if (!dataTable) return;\n",
              "\n",
              "        const docLinkHtml = 'Like what you see? Visit the ' +\n",
              "          '<a target=\"_blank\" href=https://colab.research.google.com/notebooks/data_table.ipynb>data table notebook</a>'\n",
              "          + ' to learn more about interactive tables.';\n",
              "        element.innerHTML = '';\n",
              "        dataTable['output_type'] = 'display_data';\n",
              "        await google.colab.output.renderOutput(dataTable, element);\n",
              "        const docLink = document.createElement('div');\n",
              "        docLink.innerHTML = docLinkHtml;\n",
              "        element.appendChild(docLink);\n",
              "      }\n",
              "    </script>\n",
              "  </div>\n",
              "\n",
              "\n",
              "<div id=\"df-c868f854-acb4-4d16-b456-bb7dc2bcaec5\">\n",
              "  <button class=\"colab-df-quickchart\" onclick=\"quickchart('df-c868f854-acb4-4d16-b456-bb7dc2bcaec5')\"\n",
              "            title=\"Suggest charts\"\n",
              "            style=\"display:none;\">\n",
              "\n",
              "<svg xmlns=\"http://www.w3.org/2000/svg\" height=\"24px\"viewBox=\"0 0 24 24\"\n",
              "     width=\"24px\">\n",
              "    <g>\n",
              "        <path d=\"M19 3H5c-1.1 0-2 .9-2 2v14c0 1.1.9 2 2 2h14c1.1 0 2-.9 2-2V5c0-1.1-.9-2-2-2zM9 17H7v-7h2v7zm4 0h-2V7h2v10zm4 0h-2v-4h2v4z\"/>\n",
              "    </g>\n",
              "</svg>\n",
              "  </button>\n",
              "\n",
              "<style>\n",
              "  .colab-df-quickchart {\n",
              "      --bg-color: #E8F0FE;\n",
              "      --fill-color: #1967D2;\n",
              "      --hover-bg-color: #E2EBFA;\n",
              "      --hover-fill-color: #174EA6;\n",
              "      --disabled-fill-color: #AAA;\n",
              "      --disabled-bg-color: #DDD;\n",
              "  }\n",
              "\n",
              "  [theme=dark] .colab-df-quickchart {\n",
              "      --bg-color: #3B4455;\n",
              "      --fill-color: #D2E3FC;\n",
              "      --hover-bg-color: #434B5C;\n",
              "      --hover-fill-color: #FFFFFF;\n",
              "      --disabled-bg-color: #3B4455;\n",
              "      --disabled-fill-color: #666;\n",
              "  }\n",
              "\n",
              "  .colab-df-quickchart {\n",
              "    background-color: var(--bg-color);\n",
              "    border: none;\n",
              "    border-radius: 50%;\n",
              "    cursor: pointer;\n",
              "    display: none;\n",
              "    fill: var(--fill-color);\n",
              "    height: 32px;\n",
              "    padding: 0;\n",
              "    width: 32px;\n",
              "  }\n",
              "\n",
              "  .colab-df-quickchart:hover {\n",
              "    background-color: var(--hover-bg-color);\n",
              "    box-shadow: 0 1px 2px rgba(60, 64, 67, 0.3), 0 1px 3px 1px rgba(60, 64, 67, 0.15);\n",
              "    fill: var(--button-hover-fill-color);\n",
              "  }\n",
              "\n",
              "  .colab-df-quickchart-complete:disabled,\n",
              "  .colab-df-quickchart-complete:disabled:hover {\n",
              "    background-color: var(--disabled-bg-color);\n",
              "    fill: var(--disabled-fill-color);\n",
              "    box-shadow: none;\n",
              "  }\n",
              "\n",
              "  .colab-df-spinner {\n",
              "    border: 2px solid var(--fill-color);\n",
              "    border-color: transparent;\n",
              "    border-bottom-color: var(--fill-color);\n",
              "    animation:\n",
              "      spin 1s steps(1) infinite;\n",
              "  }\n",
              "\n",
              "  @keyframes spin {\n",
              "    0% {\n",
              "      border-color: transparent;\n",
              "      border-bottom-color: var(--fill-color);\n",
              "      border-left-color: var(--fill-color);\n",
              "    }\n",
              "    20% {\n",
              "      border-color: transparent;\n",
              "      border-left-color: var(--fill-color);\n",
              "      border-top-color: var(--fill-color);\n",
              "    }\n",
              "    30% {\n",
              "      border-color: transparent;\n",
              "      border-left-color: var(--fill-color);\n",
              "      border-top-color: var(--fill-color);\n",
              "      border-right-color: var(--fill-color);\n",
              "    }\n",
              "    40% {\n",
              "      border-color: transparent;\n",
              "      border-right-color: var(--fill-color);\n",
              "      border-top-color: var(--fill-color);\n",
              "    }\n",
              "    60% {\n",
              "      border-color: transparent;\n",
              "      border-right-color: var(--fill-color);\n",
              "    }\n",
              "    80% {\n",
              "      border-color: transparent;\n",
              "      border-right-color: var(--fill-color);\n",
              "      border-bottom-color: var(--fill-color);\n",
              "    }\n",
              "    90% {\n",
              "      border-color: transparent;\n",
              "      border-bottom-color: var(--fill-color);\n",
              "    }\n",
              "  }\n",
              "</style>\n",
              "\n",
              "  <script>\n",
              "    async function quickchart(key) {\n",
              "      const quickchartButtonEl =\n",
              "        document.querySelector('#' + key + ' button');\n",
              "      quickchartButtonEl.disabled = true;  // To prevent multiple clicks.\n",
              "      quickchartButtonEl.classList.add('colab-df-spinner');\n",
              "      try {\n",
              "        const charts = await google.colab.kernel.invokeFunction(\n",
              "            'suggestCharts', [key], {});\n",
              "      } catch (error) {\n",
              "        console.error('Error during call to suggestCharts:', error);\n",
              "      }\n",
              "      quickchartButtonEl.classList.remove('colab-df-spinner');\n",
              "      quickchartButtonEl.classList.add('colab-df-quickchart-complete');\n",
              "    }\n",
              "    (() => {\n",
              "      let quickchartButtonEl =\n",
              "        document.querySelector('#df-c868f854-acb4-4d16-b456-bb7dc2bcaec5 button');\n",
              "      quickchartButtonEl.style.display =\n",
              "        google.colab.kernel.accessAllowed ? 'block' : 'none';\n",
              "    })();\n",
              "  </script>\n",
              "</div>\n",
              "    </div>\n",
              "  </div>\n"
            ],
            "application/vnd.google.colaboratory.intrinsic+json": {
              "type": "dataframe",
              "summary": "{\n  \"name\": \"df_work\",\n  \"rows\": 10,\n  \"fields\": [\n    {\n      \"column\": \"OKPD2\",\n      \"properties\": {\n        \"dtype\": \"string\",\n        \"num_unique_values\": 10,\n        \"samples\": [\n          \"43.9\",\n          \"41.2\",\n          \"43.1\"\n        ],\n        \"semantic_type\": \"\",\n        \"description\": \"\"\n      }\n    },\n    {\n      \"column\": \"Subject\",\n      \"properties\": {\n        \"dtype\": \"number\",\n        \"std\": 6957,\n        \"min\": 723,\n        \"max\": 21882,\n        \"num_unique_values\": 10,\n        \"samples\": [\n          11390,\n          11214,\n          1979\n        ],\n        \"semantic_type\": \"\",\n        \"description\": \"\"\n      }\n    }\n  ]\n}"
            }
          },
          "metadata": {},
          "execution_count": 244
        }
      ]
    },
    {
      "cell_type": "markdown",
      "source": [
        "# Выборка N случайных строк для анализа из всего датафрейма (затратим на анализ адекватное время)"
      ],
      "metadata": {
        "id": "h2DinAzgaF7X"
      }
    },
    {
      "cell_type": "code",
      "source": [
        "n = 100000\n",
        "df_work = df_work.sample(n)"
      ],
      "metadata": {
        "id": "8Bej5kUsaY9o"
      },
      "execution_count": null,
      "outputs": []
    },
    {
      "cell_type": "markdown",
      "source": [
        "# Лемматизация предмета закупки"
      ],
      "metadata": {
        "id": "DhjeUHIkKaQW"
      }
    },
    {
      "cell_type": "code",
      "source": [
        "# Загружаем русскую модель spaCy\n",
        "nlp_Subject = spacy.load('ru_core_news_sm')"
      ],
      "metadata": {
        "id": "qjxbFG1rE_RG"
      },
      "execution_count": null,
      "outputs": []
    },
    {
      "cell_type": "code",
      "source": [
        "# Определим функцию для лемматизации предмета закупки\n",
        "def lemmatize_Subject(text_Subject):\n",
        "  doc = nlp_Subject(text_Subject)\n",
        "  return ' '.join([token.lemma_ for token in doc if not token.is_stop and not token.is_punct])"
      ],
      "metadata": {
        "id": "Gv5RQ5lkPwba"
      },
      "execution_count": null,
      "outputs": []
    },
    {
      "cell_type": "code",
      "source": [
        "# Лемматизируем столбец с предметом закупки - 500 тысяч записей обработались за 4,5 часа, 100 тысяч - за 50 минут\n",
        "df_work['lemmatized_Subject_of_Contract'] = df_work['Subject'].apply(lemmatize_Subject)"
      ],
      "metadata": {
        "id": "ruWXpoi7RkCn"
      },
      "execution_count": null,
      "outputs": []
    },
    {
      "cell_type": "markdown",
      "source": [
        "# Преобразование кодов ОКПД2 в текстовые метки и обратно"
      ],
      "metadata": {
        "id": "MJ4H9tZUaTPP"
      }
    },
    {
      "cell_type": "code",
      "source": [
        "# Создадим словарь кодов ОКПД2 и соответствующих им рубрик классификатора\n",
        "OKPD2_to_Labels = {\n",
        "    '41.1': 'Документация проектная для строительства',\n",
        "    '41.2': 'Здания и работы по возведению зданий',\n",
        "    '42.1': 'Дороги автомобильные и железные; строительные работы по строительству автомобильных дорог и железных дорог',\n",
        "    '42.2': 'Сооружения и строительные работы по строительству инженерных коммуникаций',\n",
        "    '42.9': 'Сооружения и строительные работы по строительству прочих гражданских сооружений',\n",
        "    '43.1': 'Работы по сносу зданий и сооружений и по подготовке строительного участка',\n",
        "    '43.2': 'Работы электромонтажные; работы по монтажу водопроводных и канализационных систем и прочие строительно-монтажные работы',\n",
        "    '43.3': 'Работы завершающие и отделочные в зданиях и сооружениях',\n",
        "    '43.9': 'Работы строительные специализированные прочие',\n",
        "    '71.1': 'Услуги в области архитектуры; инженерно-технического проектирования и связанные технические консультативные услуги'\n",
        "}"
      ],
      "metadata": {
        "id": "EyoMv-W1aRnL"
      },
      "execution_count": null,
      "outputs": []
    },
    {
      "cell_type": "code",
      "source": [
        "# Определим функцию для преобразования кодов ОКПД2 в текстовые метки рубрик классификатора\n",
        "def convert_OKPD2_to_text_labels(code_OKPD2):\n",
        "  return [OKPD2_to_Labels.get(c) for c in str(code_OKPD2).split(',') if c in OKPD2_to_Labels]"
      ],
      "metadata": {
        "id": "uUFfZaHzlrqy"
      },
      "execution_count": null,
      "outputs": []
    },
    {
      "cell_type": "code",
      "source": [
        "# Создадим словарь рубрик классификатора и соответствующих им кодов ОКПД2\n",
        "Labels_to_OKPD2 = {v: k for k, v in OKPD2_to_Labels.items()}"
      ],
      "metadata": {
        "id": "vgM4_rFclvH3"
      },
      "execution_count": null,
      "outputs": []
    },
    {
      "cell_type": "code",
      "source": [
        "# Промаркируем датафрейм метками рубрик\n",
        "df_work['text_Labels'] = df_work['OKPD2'].apply(convert_OKPD2_to_text_labels)"
      ],
      "metadata": {
        "id": "THPXOoNo637A"
      },
      "execution_count": null,
      "outputs": []
    },
    {
      "cell_type": "markdown",
      "source": [
        "# Преобразование текстовых меток в бинарный формат"
      ],
      "metadata": {
        "id": "XuS_uPAm8hBV"
      }
    },
    {
      "cell_type": "code",
      "source": [
        "# Для многоклассовой классификации используем бинарное представление текстовых меток рубрик\n",
        "mlb_Labels = MultiLabelBinarizer()\n",
        "y = mlb_Labels.fit_transform(df_work['text_Labels'])"
      ],
      "metadata": {
        "id": "7D6TE8Zl8qZR"
      },
      "execution_count": null,
      "outputs": []
    },
    {
      "cell_type": "markdown",
      "source": [
        "# Разделение данных на обучающую и тестовую выборки"
      ],
      "metadata": {
        "id": "FCiLrIbT-EVr"
      }
    },
    {
      "cell_type": "code",
      "source": [
        "# Зададим размер обучающей выборки в 80%, тестовой выборки - 20%\n",
        "X_train, X_test, y_train, y_test = train_test_split(df_work['lemmatized_Subject_of_Contract'], y, test_size=0.2, random_state=42)"
      ],
      "metadata": {
        "id": "-G3NwA-L-TAp"
      },
      "execution_count": null,
      "outputs": []
    },
    {
      "cell_type": "markdown",
      "source": [
        "# Создание модели обучения"
      ],
      "metadata": {
        "id": "tBjQskj9_iIt"
      }
    },
    {
      "cell_type": "code",
      "source": [
        "# Используем TfidfVectorizer для преобразования текста в числовые вектора\n",
        "tfidf = TfidfVectorizer(max_features=10000)"
      ],
      "metadata": {
        "id": "eQLEO2QuA7jy"
      },
      "execution_count": 128,
      "outputs": []
    },
    {
      "cell_type": "code",
      "source": [
        "# Используем метод логистической регрессии. На выборке 100 тысяч записей модель обучается за 38 секунд. Метрики тестовой выборки: F1-score=0,68; AUC по всем классам - в диапазоне от 0,86 до 0,99.\n",
        "# model = MultiOutputClassifier(LogisticRegression(max_iter=1000))\n",
        "# Используем случайный лес. На выборке 100 тысяч записей модель обучается за 24 минуты. Метрики тестовой выборки: F1-score=0,71; AUC по всем классам - в диапазоне от 0,86 до 0,99.\n",
        "model = MultiOutputClassifier(RandomForestClassifier(n_estimators=100, random_state=42))\n",
        "# Используем градиентный бустинг. На выборке 100 тысяч записей модель обучается за __ минут. Метрики тестовой выборки: F1-score=0,__; AUC по всем классам - в диапазоне от 0,__ до 0,__.\n",
        "# model = MultiOutputClassifier(GradientBoostingClassifier(n_estimators=100, random_state=42))\n",
        "# Используем метод опорных векторов. На выборке 100 тысяч записей модель обучается за __ минут. Метрики тестовой выборки: F1-score=0,__; AUC по всем классам - в диапазоне от 0,__ до 0,__.\n",
        "# model = MultiOutputClassifier(SVC(probability=True, kernel='linear', random_state=42))\n",
        "# Используем k-ближайших соседей. На выборке 100 тысяч записей модель обучается за __ минут. Метрики тестовой выборки: F1-score=0,__; AUC по всем классам - в диапазоне от 0,__ до 0,__.\n",
        "# model = MultiOutputClassifier(KNeighborsClassifier(n_neighbors=5))\n",
        "# Используем XGBoost. На выборке 100 тысяч записей модель обучается за __ минут. Метрики тестовой выборки: F1-score=0,__; AUC по всем классам - в диапазоне от 0,__ до 0,__.\n",
        "# model = MultiOutputClassifier(XGBClassifier(n_estimators=100, random_state=42))\n",
        "# Используем нейронные сети. На выборке 100 тысяч записей модель обучается за __ минут. Метрики тестовой выборки: F1-score=0,__; AUC по всем классам - в диапазоне от 0,__ до 0,__.\n",
        "# model = MultiOutputClassifier(MLPClassifier(hidden_layer_sizes=(10), max_iter=1000, random_state=42))"
      ],
      "metadata": {
        "id": "oKGeBwbo9rUX"
      },
      "execution_count": 168,
      "outputs": []
    },
    {
      "cell_type": "code",
      "source": [
        "# Построим пайплайн модели обучения\n",
        "pipeline = Pipeline([\n",
        "    ('tfidf', tfidf),\n",
        "    ('clsf', model)\n",
        "])"
      ],
      "metadata": {
        "id": "HkGTdSuD9r7p"
      },
      "execution_count": 169,
      "outputs": []
    },
    {
      "cell_type": "markdown",
      "source": [
        "# Обучение модели на обучающей выборке"
      ],
      "metadata": {
        "id": "dG2QpTB_Ceql"
      }
    },
    {
      "cell_type": "code",
      "source": [
        "pipeline.fit(X_train, y_train)"
      ],
      "metadata": {
        "id": "r-RK27V1Cncc",
        "colab": {
          "base_uri": "https://localhost:8080/",
          "height": 189
        },
        "outputId": "dd859eaf-ad1b-4a84-f737-ec31d6876d6d"
      },
      "execution_count": 170,
      "outputs": [
        {
          "output_type": "execute_result",
          "data": {
            "text/plain": [
              "Pipeline(steps=[('tfidf', TfidfVectorizer(max_features=10000)),\n",
              "                ('clsf',\n",
              "                 MultiOutputClassifier(estimator=RandomForestClassifier(random_state=42)))])"
            ],
            "text/html": [
              "<style>#sk-container-id-3 {color: black;background-color: white;}#sk-container-id-3 pre{padding: 0;}#sk-container-id-3 div.sk-toggleable {background-color: white;}#sk-container-id-3 label.sk-toggleable__label {cursor: pointer;display: block;width: 100%;margin-bottom: 0;padding: 0.3em;box-sizing: border-box;text-align: center;}#sk-container-id-3 label.sk-toggleable__label-arrow:before {content: \"▸\";float: left;margin-right: 0.25em;color: #696969;}#sk-container-id-3 label.sk-toggleable__label-arrow:hover:before {color: black;}#sk-container-id-3 div.sk-estimator:hover label.sk-toggleable__label-arrow:before {color: black;}#sk-container-id-3 div.sk-toggleable__content {max-height: 0;max-width: 0;overflow: hidden;text-align: left;background-color: #f0f8ff;}#sk-container-id-3 div.sk-toggleable__content pre {margin: 0.2em;color: black;border-radius: 0.25em;background-color: #f0f8ff;}#sk-container-id-3 input.sk-toggleable__control:checked~div.sk-toggleable__content {max-height: 200px;max-width: 100%;overflow: auto;}#sk-container-id-3 input.sk-toggleable__control:checked~label.sk-toggleable__label-arrow:before {content: \"▾\";}#sk-container-id-3 div.sk-estimator input.sk-toggleable__control:checked~label.sk-toggleable__label {background-color: #d4ebff;}#sk-container-id-3 div.sk-label input.sk-toggleable__control:checked~label.sk-toggleable__label {background-color: #d4ebff;}#sk-container-id-3 input.sk-hidden--visually {border: 0;clip: rect(1px 1px 1px 1px);clip: rect(1px, 1px, 1px, 1px);height: 1px;margin: -1px;overflow: hidden;padding: 0;position: absolute;width: 1px;}#sk-container-id-3 div.sk-estimator {font-family: monospace;background-color: #f0f8ff;border: 1px dotted black;border-radius: 0.25em;box-sizing: border-box;margin-bottom: 0.5em;}#sk-container-id-3 div.sk-estimator:hover {background-color: #d4ebff;}#sk-container-id-3 div.sk-parallel-item::after {content: \"\";width: 100%;border-bottom: 1px solid gray;flex-grow: 1;}#sk-container-id-3 div.sk-label:hover label.sk-toggleable__label {background-color: #d4ebff;}#sk-container-id-3 div.sk-serial::before {content: \"\";position: absolute;border-left: 1px solid gray;box-sizing: border-box;top: 0;bottom: 0;left: 50%;z-index: 0;}#sk-container-id-3 div.sk-serial {display: flex;flex-direction: column;align-items: center;background-color: white;padding-right: 0.2em;padding-left: 0.2em;position: relative;}#sk-container-id-3 div.sk-item {position: relative;z-index: 1;}#sk-container-id-3 div.sk-parallel {display: flex;align-items: stretch;justify-content: center;background-color: white;position: relative;}#sk-container-id-3 div.sk-item::before, #sk-container-id-3 div.sk-parallel-item::before {content: \"\";position: absolute;border-left: 1px solid gray;box-sizing: border-box;top: 0;bottom: 0;left: 50%;z-index: -1;}#sk-container-id-3 div.sk-parallel-item {display: flex;flex-direction: column;z-index: 1;position: relative;background-color: white;}#sk-container-id-3 div.sk-parallel-item:first-child::after {align-self: flex-end;width: 50%;}#sk-container-id-3 div.sk-parallel-item:last-child::after {align-self: flex-start;width: 50%;}#sk-container-id-3 div.sk-parallel-item:only-child::after {width: 0;}#sk-container-id-3 div.sk-dashed-wrapped {border: 1px dashed gray;margin: 0 0.4em 0.5em 0.4em;box-sizing: border-box;padding-bottom: 0.4em;background-color: white;}#sk-container-id-3 div.sk-label label {font-family: monospace;font-weight: bold;display: inline-block;line-height: 1.2em;}#sk-container-id-3 div.sk-label-container {text-align: center;}#sk-container-id-3 div.sk-container {/* jupyter's `normalize.less` sets `[hidden] { display: none; }` but bootstrap.min.css set `[hidden] { display: none !important; }` so we also need the `!important` here to be able to override the default hidden behavior on the sphinx rendered scikit-learn.org. See: https://github.com/scikit-learn/scikit-learn/issues/21755 */display: inline-block !important;position: relative;}#sk-container-id-3 div.sk-text-repr-fallback {display: none;}</style><div id=\"sk-container-id-3\" class=\"sk-top-container\"><div class=\"sk-text-repr-fallback\"><pre>Pipeline(steps=[(&#x27;tfidf&#x27;, TfidfVectorizer(max_features=10000)),\n",
              "                (&#x27;clsf&#x27;,\n",
              "                 MultiOutputClassifier(estimator=RandomForestClassifier(random_state=42)))])</pre><b>In a Jupyter environment, please rerun this cell to show the HTML representation or trust the notebook. <br />On GitHub, the HTML representation is unable to render, please try loading this page with nbviewer.org.</b></div><div class=\"sk-container\" hidden><div class=\"sk-item sk-dashed-wrapped\"><div class=\"sk-label-container\"><div class=\"sk-label sk-toggleable\"><input class=\"sk-toggleable__control sk-hidden--visually\" id=\"sk-estimator-id-11\" type=\"checkbox\" ><label for=\"sk-estimator-id-11\" class=\"sk-toggleable__label sk-toggleable__label-arrow\">Pipeline</label><div class=\"sk-toggleable__content\"><pre>Pipeline(steps=[(&#x27;tfidf&#x27;, TfidfVectorizer(max_features=10000)),\n",
              "                (&#x27;clsf&#x27;,\n",
              "                 MultiOutputClassifier(estimator=RandomForestClassifier(random_state=42)))])</pre></div></div></div><div class=\"sk-serial\"><div class=\"sk-item\"><div class=\"sk-estimator sk-toggleable\"><input class=\"sk-toggleable__control sk-hidden--visually\" id=\"sk-estimator-id-12\" type=\"checkbox\" ><label for=\"sk-estimator-id-12\" class=\"sk-toggleable__label sk-toggleable__label-arrow\">TfidfVectorizer</label><div class=\"sk-toggleable__content\"><pre>TfidfVectorizer(max_features=10000)</pre></div></div></div><div class=\"sk-item sk-dashed-wrapped\"><div class=\"sk-label-container\"><div class=\"sk-label sk-toggleable\"><input class=\"sk-toggleable__control sk-hidden--visually\" id=\"sk-estimator-id-13\" type=\"checkbox\" ><label for=\"sk-estimator-id-13\" class=\"sk-toggleable__label sk-toggleable__label-arrow\">clsf: MultiOutputClassifier</label><div class=\"sk-toggleable__content\"><pre>MultiOutputClassifier(estimator=RandomForestClassifier(random_state=42))</pre></div></div></div><div class=\"sk-parallel\"><div class=\"sk-parallel-item\"><div class=\"sk-item\"><div class=\"sk-label-container\"><div class=\"sk-label sk-toggleable\"><input class=\"sk-toggleable__control sk-hidden--visually\" id=\"sk-estimator-id-14\" type=\"checkbox\" ><label for=\"sk-estimator-id-14\" class=\"sk-toggleable__label sk-toggleable__label-arrow\">estimator: RandomForestClassifier</label><div class=\"sk-toggleable__content\"><pre>RandomForestClassifier(random_state=42)</pre></div></div></div><div class=\"sk-serial\"><div class=\"sk-item\"><div class=\"sk-estimator sk-toggleable\"><input class=\"sk-toggleable__control sk-hidden--visually\" id=\"sk-estimator-id-15\" type=\"checkbox\" ><label for=\"sk-estimator-id-15\" class=\"sk-toggleable__label sk-toggleable__label-arrow\">RandomForestClassifier</label><div class=\"sk-toggleable__content\"><pre>RandomForestClassifier(random_state=42)</pre></div></div></div></div></div></div></div></div></div></div></div></div>"
            ]
          },
          "metadata": {},
          "execution_count": 170
        }
      ]
    },
    {
      "cell_type": "markdown",
      "source": [
        "# Оценка модели"
      ],
      "metadata": {
        "id": "zG6POAlpCyRh"
      }
    },
    {
      "cell_type": "code",
      "source": [
        "# На тренировочной выборке\n",
        "x_pred = pipeline.predict(X_train)\n",
        "train_accuracy = accuracy_score(y_train, x_pred)\n",
        "print(\"Метрики оценки качества на тренировочной выборке:\")\n",
        "print(classification_report(y_train, x_pred, target_names=mlb_Labels.classes_))\n",
        "print(f\"Точность (Accuracy) на тренировочной выборке равна {train_accuracy:.2f}\")"
      ],
      "metadata": {
        "colab": {
          "base_uri": "https://localhost:8080/"
        },
        "id": "WSc35E27Uc9i",
        "outputId": "5535c1d9-ab67-4c89-b442-326422dc42ba"
      },
      "execution_count": 254,
      "outputs": [
        {
          "output_type": "stream",
          "name": "stdout",
          "text": [
            "Метрики оценки качества на тренировочной выборке:\n",
            "                                                                                                                         precision    recall  f1-score   support\n",
            "\n",
            "                                                                               Документация проектная для строительства       1.00      0.97      0.98       589\n",
            "             Дороги автомобильные и железные; строительные работы по строительству автомобильных дорог и железных дорог       1.00      0.99      1.00     17596\n",
            "                                                                                   Здания и работы по возведению зданий       0.99      0.97      0.98      8986\n",
            "                                                                Работы завершающие и отделочные в зданиях и сооружениях       0.97      0.98      0.97      9005\n",
            "                                              Работы по сносу зданий и сооружений и по подготовке строительного участка       1.00      0.99      0.99      1566\n",
            "                                                                          Работы строительные специализированные прочие       0.99      0.97      0.98      9145\n",
            "Работы электромонтажные; работы по монтажу водопроводных и канализационных систем и прочие строительно-монтажные работы       0.99      0.99      0.99     14195\n",
            "                                              Сооружения и строительные работы по строительству инженерных коммуникаций       0.99      0.98      0.99      2626\n",
            "                                        Сооружения и строительные работы по строительству прочих гражданских сооружений       0.99      0.98      0.99      4845\n",
            "     Услуги в области архитектуры; инженерно-технического проектирования и связанные технические консультативные услуги       1.00      1.00      1.00     11447\n",
            "\n",
            "                                                                                                              micro avg       0.99      0.98      0.99     80000\n",
            "                                                                                                              macro avg       0.99      0.98      0.99     80000\n",
            "                                                                                                           weighted avg       0.99      0.98      0.99     80000\n",
            "                                                                                                            samples avg       0.98      0.98      0.98     80000\n",
            "\n",
            "Точность (Accuracy) на тренировочной выборке равна 0.98\n"
          ]
        }
      ]
    },
    {
      "cell_type": "code",
      "source": [
        "# На тестовой выборке\n",
        "y_pred = pipeline.predict(X_test)\n",
        "test_accuracy = accuracy_score(y_test, y_pred)\n",
        "print(\"Метрики оценки качества на тестовой выборке:\")\n",
        "print(classification_report(y_test, y_pred, target_names=mlb_Labels.classes_))\n",
        "print(f\"Точность (Accuracy) на тестовой выборке равна {test_accuracy:.2f}\")"
      ],
      "metadata": {
        "id": "MElzn6wXC4cC",
        "colab": {
          "base_uri": "https://localhost:8080/"
        },
        "outputId": "005ea78d-0071-442f-ac22-7ed0cd1276e6"
      },
      "execution_count": 255,
      "outputs": [
        {
          "output_type": "stream",
          "name": "stdout",
          "text": [
            "Метрики оценки качества на тестовой выборке:\n",
            "                                                                                                                         precision    recall  f1-score   support\n",
            "\n",
            "                                                                               Документация проектная для строительства       0.83      0.04      0.07       134\n",
            "             Дороги автомобильные и железные; строительные работы по строительству автомобильных дорог и железных дорог       0.93      0.89      0.91      4286\n",
            "                                                                                   Здания и работы по возведению зданий       0.91      0.43      0.59      2228\n",
            "                                                                Работы завершающие и отделочные в зданиях и сооружениях       0.77      0.47      0.59      2307\n",
            "                                              Работы по сносу зданий и сооружений и по подготовке строительного участка       0.92      0.59      0.72       413\n",
            "                                                                          Работы строительные специализированные прочие       0.77      0.30      0.43      2245\n",
            "Работы электромонтажные; работы по монтажу водопроводных и канализационных систем и прочие строительно-монтажные работы       0.83      0.72      0.77      3492\n",
            "                                              Сооружения и строительные работы по строительству инженерных коммуникаций       0.76      0.22      0.35       655\n",
            "                                        Сооружения и строительные работы по строительству прочих гражданских сооружений       0.75      0.37      0.50      1264\n",
            "     Услуги в области архитектуры; инженерно-технического проектирования и связанные технические консультативные услуги       0.93      0.94      0.93      2976\n",
            "\n",
            "                                                                                                              micro avg       0.87      0.63      0.74     20000\n",
            "                                                                                                              macro avg       0.84      0.50      0.59     20000\n",
            "                                                                                                           weighted avg       0.86      0.63      0.71     20000\n",
            "                                                                                                            samples avg       0.63      0.63      0.63     20000\n",
            "\n",
            "Точность (Accuracy) на тестовой выборке равна 0.63\n"
          ]
        }
      ]
    },
    {
      "cell_type": "markdown",
      "source": [
        "# Построение ROC-кривой и вычисление AUC"
      ],
      "metadata": {
        "id": "hl2liImFdpaw"
      }
    },
    {
      "cell_type": "code",
      "source": [
        "y_test_bin = label_binarize(y_test, classes=range(len(mlb_Labels.classes_)))\n",
        "y_pred_prob = pipeline.predict_proba(X_test)\n",
        "\n",
        "# Отсортируем пары ОКПД2-Наименование рубрики по возрастанию кода\n",
        "OKPD2_labels_pairs = sorted([(Labels_to_OKPD2[mlb_Labels.classes_[i]], mlb_Labels.classes_[i]) for i in range(len(mlb_Labels.classes_))])\n",
        "\n",
        "plt.figure(figsize=(8, 6))\n",
        "for code, label in OKPD2_labels_pairs:\n",
        "  i = list(mlb_Labels.classes_).index(label)\n",
        "  fpr, tpr, _ = roc_curve(y_test_bin[:, i], y_pred_prob[i][:, 1])\n",
        "  roc_auc = auc(fpr, tpr)\n",
        "  plt.plot(fpr, tpr, label=f'{label} (ОКПД2: {code}) (AUC = {roc_auc:.2f})')\n",
        "\n",
        "plt.plot([0, 1], [0, 1], 'k--')\n",
        "plt.xlim([0.0, 1.0])\n",
        "plt.ylim([0.0, 1.05])\n",
        "plt.xlabel('False Positive Rate')\n",
        "plt.ylabel('True Positive Rate')\n",
        "plt.title('ROC-кривая для многоклассовой классификации. Случайный лес')\n",
        "plt.legend(bbox_to_anchor=(1.05, 1), loc='upper left', prop={'size': 7})\n",
        "plt.show()"
      ],
      "metadata": {
        "colab": {
          "base_uri": "https://localhost:8080/",
          "height": 526
        },
        "id": "JuItcuSOdxKW",
        "outputId": "8aa1622b-cc28-4a28-aee6-07686034bc42"
      },
      "execution_count": 174,
      "outputs": [
        {
          "output_type": "display_data",
          "data": {
            "text/plain": [
              "<Figure size 800x600 with 1 Axes>"
            ],
            "image/png": "[encoded data removed]"
          },
          "metadata": {}
        }
      ]
    },
    {
      "cell_type": "markdown",
      "source": [
        "# Сохранение модели"
      ],
      "metadata": {
        "id": "leABFMleD8d4"
      }
    },
    {
      "cell_type": "code",
      "source": [
        "joblib.dump(pipeline, 'fz_classification_model.pkl')"
      ],
      "metadata": {
        "id": "oES3qUbQEAI6",
        "colab": {
          "base_uri": "https://localhost:8080/"
        },
        "outputId": "c8acc6d4-54ed-481d-980e-7b0fb2b7198c"
      },
      "execution_count": null,
      "outputs": [
        {
          "output_type": "execute_result",
          "data": {
            "text/plain": [
              "['fz_classification_model.pkl']"
            ]
          },
          "metadata": {},
          "execution_count": 37
        }
      ]
    },
    {
      "cell_type": "markdown",
      "source": [
        "# Применение модели"
      ],
      "metadata": {
        "id": "23PX6h8hElYS"
      }
    },
    {
      "cell_type": "code",
      "source": [
        "# Загружаем сохраненную модель\n",
        "pipeline = joblib.load('fz_classification_model.pkl')"
      ],
      "metadata": {
        "id": "HKmLd8AgEoLe"
      },
      "execution_count": null,
      "outputs": []
    },
    {
      "cell_type": "code",
      "source": [
        "# Определим функцию для классификации нового контракта\n",
        "def classify_new_contract(Subject_of_new_contract):\n",
        "  lemmatized_Subject = lemmatize_Subject(Subject_of_new_contract)\n",
        "  prediction = pipeline.predict([lemmatized_Subject])\n",
        "  labels = mlb_Labels.inverse_transform(prediction)\n",
        "  return labels[0]"
      ],
      "metadata": {
        "id": "gUROxde_MpGt"
      },
      "execution_count": 175,
      "outputs": []
    },
    {
      "cell_type": "markdown",
      "source": [
        "# Пример использования"
      ],
      "metadata": {
        "id": "Pbzn6Q4XHrEu"
      }
    },
    {
      "cell_type": "markdown",
      "source": [
        "Тестовые наименования предмета контракта с верными кодами ОКПД2 для проверки:\n",
        "*   Выполнение работ по проектированию строительства дома - 41.1\n",
        "*   Приобретение жилого помещения для нуждающихся - 41.2\n",
        "*   Ремонт моста - 42.1\n",
        "*   Выполнение работ по текущему  ремонту трубопровода - 42.2\n",
        "*   Обустройство детской игровой площадки - 42.9\n",
        "*   Разбор ветхих объектов на территории поселка - 43.1\n",
        "*   Выполнение работ по ремонту системы вытяжной вентиляции - 43.2\n",
        "*   Выполнение работ по ремонту помещений - 43.3\n",
        "*   Выполнение работ по капитальному ремонту кровли - 43.9\n",
        "*   Выполнение геодезических и кадастровых работ - 71.1\n",
        "\n",
        "\n",
        "\n",
        "\n",
        "\n",
        "\n",
        "\n",
        "\n",
        "\n",
        "\n",
        "\n"
      ],
      "metadata": {
        "id": "B84wNxcI--av"
      }
    },
    {
      "cell_type": "code",
      "source": [
        "new_contract = input(\"Введите предмет закупки: \")\n",
        "predicted_Subject = classify_new_contract(new_contract)\n",
        "if len(predicted_Subject) != 0:\n",
        "  for key in Labels_to_OKPD2:\n",
        "    if key == predicted_Subject[0]:\n",
        "      predicted_OKPD2 = Labels_to_OKPD2[key]\n",
        "      print(f\"Результат классификации: ОКПД2 - {predicted_OKPD2}, рубрика - {predicted_Subject[0]}\")\n",
        "else: print(f\"Предмет закупки '{new_contract}' не классифицирован\")"
      ],
      "metadata": {
        "id": "U4Lh9mJPHvE1",
        "colab": {
          "base_uri": "https://localhost:8080/"
        },
        "outputId": "4bc9657f-c149-4c01-9add-0d25edd3138b"
      },
      "execution_count": 266,
      "outputs": [
        {
          "output_type": "stream",
          "name": "stdout",
          "text": [
            "Введите предмет закупки: Выполнение геодезических и кадастровых работ\n",
            "Результат классификации: ОКПД2 - 71.1, рубрика - Услуги в области архитектуры; инженерно-технического проектирования и связанные технические консультативные услуги\n"
          ]
        }
      ]
    }
  ]
}