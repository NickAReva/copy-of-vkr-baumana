{
  "nbformat": 4,
  "nbformat_minor": 0,
  "metadata": {
    "colab": {
      "provenance": []
    },
    "kernelspec": {
      "name": "python3",
      "display_name": "Python 3"
    },
    "language_info": {
      "name": "python"
    }
  },
  "cells": [
    {
      "cell_type": "code",
      "source": [
        "# Устанавливаем библиотеки\n",
        "# ! pip install pandas scikit-learn nltk spacy\n",
        "# ! python -m spacy download ru_core_news_sm"
      ],
      "metadata": {
        "id": "Gejw4PnEPAJH"
      },
      "execution_count": null,
      "outputs": []
    },
    {
      "cell_type": "code",
      "execution_count": 35,
      "metadata": {
        "id": "ACVYWytWQBMw"
      },
      "outputs": [],
      "source": [
        "# Подключаем необходимые для работы библиотеки\n",
        "import numpy as np\n",
        "import pandas as pd\n",
        "import os\n",
        "import gdown\n",
        "import zipfile\n",
        "import warnings\n",
        "from google.colab import drive\n",
        "from sklearn.feature_extraction.text import TfidfVectorizer\n",
        "from sklearn.preprocessing import MultiLabelBinarizer\n",
        "from sklearn.model_selection import train_test_split\n",
        "from sklearn.linear_model import LogisticRegression\n",
        "from sklearn.multioutput import MultiOutputClassifier\n",
        "from sklearn.pipeline import Pipeline\n",
        "from sklearn.metrics import classification_report\n",
        "import nltk\n",
        "import spacy\n",
        "import joblib"
      ]
    },
    {
      "cell_type": "code",
      "source": [
        "# Отключаем предупреждения\n",
        "warnings.filterwarnings('ignore')"
      ],
      "metadata": {
        "id": "E3psa9gRNH5m"
      },
      "execution_count": 3,
      "outputs": []
    },
    {
      "cell_type": "markdown",
      "source": [
        "# Подготовка данных"
      ],
      "metadata": {
        "id": "XMtWdhWrJl6L"
      }
    },
    {
      "cell_type": "code",
      "source": [
        "# Монтируем Google-диск для скачивания ZIP-файла, распаковки и работы с CSV-файлом\n",
        "drive.mount('/content/drive')"
      ],
      "metadata": {
        "colab": {
          "base_uri": "https://localhost:8080/"
        },
        "id": "SOcjL_y3p_Yy",
        "outputId": "3a74071c-4a60-4eed-c1df-f6ec349f8325"
      },
      "execution_count": 6,
      "outputs": [
        {
          "output_type": "stream",
          "name": "stdout",
          "text": [
            "Mounted at /content/drive\n"
          ]
        }
      ]
    },
    {
      "cell_type": "code",
      "source": [
        "# Задаем имя ZIP-файла с записями о контрактах\n",
        "name_zip = 'fz.zip'"
      ],
      "metadata": {
        "id": "-GKw8roJ80MN"
      },
      "execution_count": 8,
      "outputs": []
    },
    {
      "cell_type": "code",
      "source": [
        "# Скачиваем ZIP-файл с записями о контрактах с Google-диска\n",
        "url = 'https://drive.google.com/uc?id=1sRHx27O3NgTivrrQHdBdTAqxdCYNmARW'\n",
        "gdown.download(url, name_zip, quiet=False)"
      ],
      "metadata": {
        "id": "jpxTLFDsNwUM",
        "colab": {
          "base_uri": "https://localhost:8080/",
          "height": 126
        },
        "outputId": "cbdcd41c-c6f6-4e48-8b3a-f3378eb48302"
      },
      "execution_count": 8,
      "outputs": [
        {
          "output_type": "stream",
          "name": "stderr",
          "text": [
            "Downloading...\n",
            "From (original): https://drive.google.com/uc?id=1sRHx27O3NgTivrrQHdBdTAqxdCYNmARW\n",
            "From (redirected): https://drive.google.com/uc?id=1sRHx27O3NgTivrrQHdBdTAqxdCYNmARW&confirm=t&uuid=ce7c008e-9090-4b0d-a1cb-49306808d3c7\n",
            "To: /content/fz.zip\n",
            "100%|██████████| 2.47G/2.47G [00:44<00:00, 55.7MB/s]\n"
          ]
        },
        {
          "output_type": "execute_result",
          "data": {
            "text/plain": [
              "'fz.zip'"
            ],
            "application/vnd.google.colaboratory.intrinsic+json": {
              "type": "string"
            }
          },
          "metadata": {},
          "execution_count": 8
        }
      ]
    },
    {
      "cell_type": "code",
      "source": [
        "# Распаковываем ZIP-файл с записями о контрактах\n",
        "with zipfile.ZipFile(name_zip, 'r') as zip_ref:\n",
        "  zip_ref.extractall()"
      ],
      "metadata": {
        "id": "K2xQG8YUT5s4"
      },
      "execution_count": 9,
      "outputs": []
    },
    {
      "cell_type": "markdown",
      "source": [
        "# Предобработка данных"
      ],
      "metadata": {
        "id": "FLMXIMWCKExc"
      }
    },
    {
      "cell_type": "code",
      "source": [
        "df_original = pd.DataFrame()\n",
        "# Задаем имя CSV-файла с записями о контрактах\n",
        "name_csv = 'fz.csv'\n",
        "# Определяем типы необходимых записей для анализа\n",
        "type_cols = {'Subject': 'string', 'OKPD2': 'string'}\n",
        "# Читаем данные из супербольшого CSV-файла в датафрейм кусками, одновременно удаляя ненужные для анализа столбцы и строки с пустыми значениями\n",
        "with pd.read_csv(name_csv, chunksize=100000, encoding='utf-8', on_bad_lines=\"skip\", delimiter=',', header=None, usecols=[11, 26], names=['Subject', 'OKPD2'], dtype=type_cols) as reader:\n",
        "  for chunk in reader:\n",
        "    # Отфильтровываем записи о контрактах, оставляя записи групп ОКПД 41, 42, 43, 71.1\n",
        "    chunk = chunk[(chunk['OKPD2'].str.len() <= 4) & (chunk['OKPD2'].str.contains('^41.') | chunk['OKPD2'].str.contains('^42.') | chunk['OKPD2'].str.contains('^43.') | chunk['OKPD2'].str.contains('^71.1'))]\n",
        "    # Удаляем из датафрейма строки с неопределенным предметом закупки и строки с пустыми значениями\n",
        "    chunk = chunk.loc[chunk['Subject'] != '<НЕ ОПРЕДЕЛЕНО>']\n",
        "    chunk.dropna\n",
        "    # Добавляем текущий chunk в итоговый большой датафрейм\n",
        "    df_original = pd.concat([df_original, chunk], ignore_index=True)"
      ],
      "metadata": {
        "id": "Wp2sVIpAYMmI"
      },
      "execution_count": 10,
      "outputs": []
    },
    {
      "cell_type": "code",
      "source": [
        "# Создаем рабочий датафрейм\n",
        "df_work = df_original"
      ],
      "metadata": {
        "id": "7ITmpwnieVAB"
      },
      "execution_count": 11,
      "outputs": []
    },
    {
      "cell_type": "code",
      "source": [
        "# Сбрасываем индексы в датафрейме\n",
        "df_work = df_work.reset_index()\n",
        "del df_work['index']"
      ],
      "metadata": {
        "id": "od80TrqyZ3cE"
      },
      "execution_count": 12,
      "outputs": []
    },
    {
      "cell_type": "markdown",
      "source": [
        "# Предварительный анализ полученного датафрейма"
      ],
      "metadata": {
        "id": "2JBRvxFMKTFg"
      }
    },
    {
      "cell_type": "code",
      "source": [
        "# 10 случайных записей\n",
        "df_work.sample(10)"
      ],
      "metadata": {
        "colab": {
          "base_uri": "https://localhost:8080/",
          "height": 359
        },
        "id": "oG-OYHLpeh_x",
        "outputId": "9ed4b3b1-970a-44db-a087-e757b58ab775"
      },
      "execution_count": 31,
      "outputs": [
        {
          "output_type": "execute_result",
          "data": {
            "text/plain": [
              "                                                   Subject OKPD2\n",
              "787739   Выполнение работ по замеру сопротивления изоля...  43.2\n",
              "1455676  Разработка проектной документации \\Капитальный...  71.1\n",
              "595718   Ремонт и техническое обслуживание сетей улично...  43.2\n",
              "1737437  Ремонт тротуара по адресу: ул. Совхозная, с. З...  42.1\n",
              "1740295  Разработка рабочей документации и выполнение с...  41.2\n",
              "807801   Ремонт дороги ул. Хариса Юсупова и ул. Соснова...  42.1\n",
              "238388   Установка индивидуальный приборов учета потреб...  43.2\n",
              "1141506  Выполнение работ по огнезащитной обработке дер...  43.2\n",
              "1763066  Выполнение работ по благоустройству территории...  42.9\n",
              "10588    № 971 - А Выполнение работ по ремонту автомоби...  42.1"
            ],
            "text/html": [
              "\n",
              "  <div id=\"df-e73de8d1-ff58-4c97-bdfe-fe6a29f88e0c\" class=\"colab-df-container\">\n",
              "    <div>\n",
              "<style scoped>\n",
              "    .dataframe tbody tr th:only-of-type {\n",
              "        vertical-align: middle;\n",
              "    }\n",
              "\n",
              "    .dataframe tbody tr th {\n",
              "        vertical-align: top;\n",
              "    }\n",
              "\n",
              "    .dataframe thead th {\n",
              "        text-align: right;\n",
              "    }\n",
              "</style>\n",
              "<table border=\"1\" class=\"dataframe\">\n",
              "  <thead>\n",
              "    <tr style=\"text-align: right;\">\n",
              "      <th></th>\n",
              "      <th>Subject</th>\n",
              "      <th>OKPD2</th>\n",
              "    </tr>\n",
              "  </thead>\n",
              "  <tbody>\n",
              "    <tr>\n",
              "      <th>787739</th>\n",
              "      <td>Выполнение работ по замеру сопротивления изоля...</td>\n",
              "      <td>43.2</td>\n",
              "    </tr>\n",
              "    <tr>\n",
              "      <th>1455676</th>\n",
              "      <td>Разработка проектной документации \\Капитальный...</td>\n",
              "      <td>71.1</td>\n",
              "    </tr>\n",
              "    <tr>\n",
              "      <th>595718</th>\n",
              "      <td>Ремонт и техническое обслуживание сетей улично...</td>\n",
              "      <td>43.2</td>\n",
              "    </tr>\n",
              "    <tr>\n",
              "      <th>1737437</th>\n",
              "      <td>Ремонт тротуара по адресу: ул. Совхозная, с. З...</td>\n",
              "      <td>42.1</td>\n",
              "    </tr>\n",
              "    <tr>\n",
              "      <th>1740295</th>\n",
              "      <td>Разработка рабочей документации и выполнение с...</td>\n",
              "      <td>41.2</td>\n",
              "    </tr>\n",
              "    <tr>\n",
              "      <th>807801</th>\n",
              "      <td>Ремонт дороги ул. Хариса Юсупова и ул. Соснова...</td>\n",
              "      <td>42.1</td>\n",
              "    </tr>\n",
              "    <tr>\n",
              "      <th>238388</th>\n",
              "      <td>Установка индивидуальный приборов учета потреб...</td>\n",
              "      <td>43.2</td>\n",
              "    </tr>\n",
              "    <tr>\n",
              "      <th>1141506</th>\n",
              "      <td>Выполнение работ по огнезащитной обработке дер...</td>\n",
              "      <td>43.2</td>\n",
              "    </tr>\n",
              "    <tr>\n",
              "      <th>1763066</th>\n",
              "      <td>Выполнение работ по благоустройству территории...</td>\n",
              "      <td>42.9</td>\n",
              "    </tr>\n",
              "    <tr>\n",
              "      <th>10588</th>\n",
              "      <td>№ 971 - А Выполнение работ по ремонту автомоби...</td>\n",
              "      <td>42.1</td>\n",
              "    </tr>\n",
              "  </tbody>\n",
              "</table>\n",
              "</div>\n",
              "    <div class=\"colab-df-buttons\">\n",
              "\n",
              "  <div class=\"colab-df-container\">\n",
              "    <button class=\"colab-df-convert\" onclick=\"convertToInteractive('df-e73de8d1-ff58-4c97-bdfe-fe6a29f88e0c')\"\n",
              "            title=\"Convert this dataframe to an interactive table.\"\n",
              "            style=\"display:none;\">\n",
              "\n",
              "  <svg xmlns=\"http://www.w3.org/2000/svg\" height=\"24px\" viewBox=\"0 -960 960 960\">\n",
              "    <path d=\"M120-120v-720h720v720H120Zm60-500h600v-160H180v160Zm220 220h160v-160H400v160Zm0 220h160v-160H400v160ZM180-400h160v-160H180v160Zm440 0h160v-160H620v160ZM180-180h160v-160H180v160Zm440 0h160v-160H620v160Z\"/>\n",
              "  </svg>\n",
              "    </button>\n",
              "\n",
              "  <style>\n",
              "    .colab-df-container {\n",
              "      display:flex;\n",
              "      gap: 12px;\n",
              "    }\n",
              "\n",
              "    .colab-df-convert {\n",
              "      background-color: #E8F0FE;\n",
              "      border: none;\n",
              "      border-radius: 50%;\n",
              "      cursor: pointer;\n",
              "      display: none;\n",
              "      fill: #1967D2;\n",
              "      height: 32px;\n",
              "      padding: 0 0 0 0;\n",
              "      width: 32px;\n",
              "    }\n",
              "\n",
              "    .colab-df-convert:hover {\n",
              "      background-color: #E2EBFA;\n",
              "      box-shadow: 0px 1px 2px rgba(60, 64, 67, 0.3), 0px 1px 3px 1px rgba(60, 64, 67, 0.15);\n",
              "      fill: #174EA6;\n",
              "    }\n",
              "\n",
              "    .colab-df-buttons div {\n",
              "      margin-bottom: 4px;\n",
              "    }\n",
              "\n",
              "    [theme=dark] .colab-df-convert {\n",
              "      background-color: #3B4455;\n",
              "      fill: #D2E3FC;\n",
              "    }\n",
              "\n",
              "    [theme=dark] .colab-df-convert:hover {\n",
              "      background-color: #434B5C;\n",
              "      box-shadow: 0px 1px 3px 1px rgba(0, 0, 0, 0.15);\n",
              "      filter: drop-shadow(0px 1px 2px rgba(0, 0, 0, 0.3));\n",
              "      fill: #FFFFFF;\n",
              "    }\n",
              "  </style>\n",
              "\n",
              "    <script>\n",
              "      const buttonEl =\n",
              "        document.querySelector('#df-e73de8d1-ff58-4c97-bdfe-fe6a29f88e0c button.colab-df-convert');\n",
              "      buttonEl.style.display =\n",
              "        google.colab.kernel.accessAllowed ? 'block' : 'none';\n",
              "\n",
              "      async function convertToInteractive(key) {\n",
              "        const element = document.querySelector('#df-e73de8d1-ff58-4c97-bdfe-fe6a29f88e0c');\n",
              "        const dataTable =\n",
              "          await google.colab.kernel.invokeFunction('convertToInteractive',\n",
              "                                                    [key], {});\n",
              "        if (!dataTable) return;\n",
              "\n",
              "        const docLinkHtml = 'Like what you see? Visit the ' +\n",
              "          '<a target=\"_blank\" href=https://colab.research.google.com/notebooks/data_table.ipynb>data table notebook</a>'\n",
              "          + ' to learn more about interactive tables.';\n",
              "        element.innerHTML = '';\n",
              "        dataTable['output_type'] = 'display_data';\n",
              "        await google.colab.output.renderOutput(dataTable, element);\n",
              "        const docLink = document.createElement('div');\n",
              "        docLink.innerHTML = docLinkHtml;\n",
              "        element.appendChild(docLink);\n",
              "      }\n",
              "    </script>\n",
              "  </div>\n",
              "\n",
              "\n",
              "<div id=\"df-76f8d329-9887-4fad-968e-5316c05e2b8c\">\n",
              "  <button class=\"colab-df-quickchart\" onclick=\"quickchart('df-76f8d329-9887-4fad-968e-5316c05e2b8c')\"\n",
              "            title=\"Suggest charts\"\n",
              "            style=\"display:none;\">\n",
              "\n",
              "<svg xmlns=\"http://www.w3.org/2000/svg\" height=\"24px\"viewBox=\"0 0 24 24\"\n",
              "     width=\"24px\">\n",
              "    <g>\n",
              "        <path d=\"M19 3H5c-1.1 0-2 .9-2 2v14c0 1.1.9 2 2 2h14c1.1 0 2-.9 2-2V5c0-1.1-.9-2-2-2zM9 17H7v-7h2v7zm4 0h-2V7h2v10zm4 0h-2v-4h2v4z\"/>\n",
              "    </g>\n",
              "</svg>\n",
              "  </button>\n",
              "\n",
              "<style>\n",
              "  .colab-df-quickchart {\n",
              "      --bg-color: #E8F0FE;\n",
              "      --fill-color: #1967D2;\n",
              "      --hover-bg-color: #E2EBFA;\n",
              "      --hover-fill-color: #174EA6;\n",
              "      --disabled-fill-color: #AAA;\n",
              "      --disabled-bg-color: #DDD;\n",
              "  }\n",
              "\n",
              "  [theme=dark] .colab-df-quickchart {\n",
              "      --bg-color: #3B4455;\n",
              "      --fill-color: #D2E3FC;\n",
              "      --hover-bg-color: #434B5C;\n",
              "      --hover-fill-color: #FFFFFF;\n",
              "      --disabled-bg-color: #3B4455;\n",
              "      --disabled-fill-color: #666;\n",
              "  }\n",
              "\n",
              "  .colab-df-quickchart {\n",
              "    background-color: var(--bg-color);\n",
              "    border: none;\n",
              "    border-radius: 50%;\n",
              "    cursor: pointer;\n",
              "    display: none;\n",
              "    fill: var(--fill-color);\n",
              "    height: 32px;\n",
              "    padding: 0;\n",
              "    width: 32px;\n",
              "  }\n",
              "\n",
              "  .colab-df-quickchart:hover {\n",
              "    background-color: var(--hover-bg-color);\n",
              "    box-shadow: 0 1px 2px rgba(60, 64, 67, 0.3), 0 1px 3px 1px rgba(60, 64, 67, 0.15);\n",
              "    fill: var(--button-hover-fill-color);\n",
              "  }\n",
              "\n",
              "  .colab-df-quickchart-complete:disabled,\n",
              "  .colab-df-quickchart-complete:disabled:hover {\n",
              "    background-color: var(--disabled-bg-color);\n",
              "    fill: var(--disabled-fill-color);\n",
              "    box-shadow: none;\n",
              "  }\n",
              "\n",
              "  .colab-df-spinner {\n",
              "    border: 2px solid var(--fill-color);\n",
              "    border-color: transparent;\n",
              "    border-bottom-color: var(--fill-color);\n",
              "    animation:\n",
              "      spin 1s steps(1) infinite;\n",
              "  }\n",
              "\n",
              "  @keyframes spin {\n",
              "    0% {\n",
              "      border-color: transparent;\n",
              "      border-bottom-color: var(--fill-color);\n",
              "      border-left-color: var(--fill-color);\n",
              "    }\n",
              "    20% {\n",
              "      border-color: transparent;\n",
              "      border-left-color: var(--fill-color);\n",
              "      border-top-color: var(--fill-color);\n",
              "    }\n",
              "    30% {\n",
              "      border-color: transparent;\n",
              "      border-left-color: var(--fill-color);\n",
              "      border-top-color: var(--fill-color);\n",
              "      border-right-color: var(--fill-color);\n",
              "    }\n",
              "    40% {\n",
              "      border-color: transparent;\n",
              "      border-right-color: var(--fill-color);\n",
              "      border-top-color: var(--fill-color);\n",
              "    }\n",
              "    60% {\n",
              "      border-color: transparent;\n",
              "      border-right-color: var(--fill-color);\n",
              "    }\n",
              "    80% {\n",
              "      border-color: transparent;\n",
              "      border-right-color: var(--fill-color);\n",
              "      border-bottom-color: var(--fill-color);\n",
              "    }\n",
              "    90% {\n",
              "      border-color: transparent;\n",
              "      border-bottom-color: var(--fill-color);\n",
              "    }\n",
              "  }\n",
              "</style>\n",
              "\n",
              "  <script>\n",
              "    async function quickchart(key) {\n",
              "      const quickchartButtonEl =\n",
              "        document.querySelector('#' + key + ' button');\n",
              "      quickchartButtonEl.disabled = true;  // To prevent multiple clicks.\n",
              "      quickchartButtonEl.classList.add('colab-df-spinner');\n",
              "      try {\n",
              "        const charts = await google.colab.kernel.invokeFunction(\n",
              "            'suggestCharts', [key], {});\n",
              "      } catch (error) {\n",
              "        console.error('Error during call to suggestCharts:', error);\n",
              "      }\n",
              "      quickchartButtonEl.classList.remove('colab-df-spinner');\n",
              "      quickchartButtonEl.classList.add('colab-df-quickchart-complete');\n",
              "    }\n",
              "    (() => {\n",
              "      let quickchartButtonEl =\n",
              "        document.querySelector('#df-76f8d329-9887-4fad-968e-5316c05e2b8c button');\n",
              "      quickchartButtonEl.style.display =\n",
              "        google.colab.kernel.accessAllowed ? 'block' : 'none';\n",
              "    })();\n",
              "  </script>\n",
              "</div>\n",
              "    </div>\n",
              "  </div>\n"
            ],
            "application/vnd.google.colaboratory.intrinsic+json": {
              "type": "dataframe",
              "summary": "{\n  \"name\": \"df_work\",\n  \"rows\": 10,\n  \"fields\": [\n    {\n      \"column\": \"Subject\",\n      \"properties\": {\n        \"dtype\": \"string\",\n        \"num_unique_values\": 10,\n        \"samples\": [\n          \"\\u0412\\u044b\\u043f\\u043e\\u043b\\u043d\\u0435\\u043d\\u0438\\u0435 \\u0440\\u0430\\u0431\\u043e\\u0442 \\u043f\\u043e \\u0431\\u043b\\u0430\\u0433\\u043e\\u0443\\u0441\\u0442\\u0440\\u043e\\u0439\\u0441\\u0442\\u0432\\u0443 \\u0442\\u0435\\u0440\\u0440\\u0438\\u0442\\u043e\\u0440\\u0438\\u0438 (\\u0432\\u043e\\u0441\\u0441\\u0442\\u0430\\u043d\\u043e\\u0432\\u043b\\u0435\\u043d\\u0438\\u0435 (\\u0442\\u0435\\u043a\\u0443\\u0449\\u0438\\u0439 \\u0440\\u0435\\u043c\\u043e\\u043d\\u0442) \\u0430\\u0441\\u0444\\u0430\\u043b\\u044c\\u0442\\u043e\\u0431\\u0435\\u0442\\u043e\\u043d\\u043d\\u043e\\u0433\\u043e \\u043f\\u043e\\u043a\\u0440\\u044b\\u0442\\u0438\\u044f \\u0432\\u043d\\u0443\\u0442\\u0440\\u0435\\u043d\\u043d\\u0435\\u0433\\u043e \\u0434\\u0432\\u043e\\u0440\\u0430), \\u043d\\u0430\\u0445\\u043e\\u0434\\u044f\\u0449\\u0435\\u0439\\u0441\\u044f \\u0432 \\u0433\\u0440\\u0430\\u043d\\u0438\\u0446\\u0430\\u0445 \\u0431\\u0430\\u043b\\u0430\\u043d\\u0441\\u043e\\u0432\\u043e\\u0439 \\u043f\\u0440\\u0438\\u043d\\u0430\\u0434\\u043b\\u0435\\u0436\\u043d\\u043e\\u0441\\u0442\\u0438, \\u043e\\u0442\\u043d\\u043e\\u0441\\u0438\\u0442\\u0435\\u043b\\u044c\\u043d\\u043e \\u0437\\u0434\\u0430\\u043d\\u0438\\u044f \\u043d\\u0430\\u0445\\u043e\\u0434\\u044f\\u0449\\u0435\\u0433\\u043e\\u0441\\u044f \\u043d\\u0430 \\u0431\\u0430\\u043b\\u0430\\u043d\\u0441\\u0435 \\u041a\\u0423 \\u041e\\u041e  \\u00ab\\u0425\\u041e\\u0417\\u0423 \\u041f\\u0440\\u0430\\u0432\\u0438\\u0442\\u0435\\u043b\\u044c\\u0441\\u0442\\u0432\\u0430 \\u041e\\u043c\\u0441\\u043a\\u043e\\u0439 \\u043e\\u0431\\u043b\\u0430\\u0441\\u0442\\u0438\\u00bb, \\u0440\\u0430\\u0441\\u043f\\u043e\\u043b\\u043e\\u0436\\u0435\\u043d\\u043d\\u043e\\u0433\\u043e \\u043f\\u043e \\u0430\\u0434\\u0440\\u0435\\u0441\\u0443: 644007, \\u0433. \\u041e\\u043c\\u0441\\u043a, \\u0443\\u043b. \\u0427\\u0435\\u0440\\u043d\\u044b\\u0448\\u0435\\u0432\\u0441\\u043a\\u043e\\u0433\\u043e, \\u0434. 4\",\n          \"\\u0420\\u0430\\u0437\\u0440\\u0430\\u0431\\u043e\\u0442\\u043a\\u0430 \\u043f\\u0440\\u043e\\u0435\\u043a\\u0442\\u043d\\u043e\\u0439 \\u0434\\u043e\\u043a\\u0443\\u043c\\u0435\\u043d\\u0442\\u0430\\u0446\\u0438\\u0438 \\\\\\u041a\\u0430\\u043f\\u0438\\u0442\\u0430\\u043b\\u044c\\u043d\\u044b\\u0439 \\u0440\\u0435\\u043c\\u043e\\u043d\\u0442 \\u0433\\u0438\\u0434\\u0440\\u043e\\u0442\\u0435\\u0445\\u043d\\u0438\\u0447\\u0435\\u0441\\u043a\\u043e\\u0433\\u043e \\u0441\\u043e\\u043e\\u0440\\u0443\\u0436\\u0435\\u043d\\u0438\\u044f \\u043d\\u0430 \\u0440\\u0443\\u0447\\u044c\\u0435 \\u041e\\u0432\\u0440\\u0430\\u0433 \\u0427\\u0435\\u0440\\u043d\\u044b\\u0439 \\u0443 \\u0441.\\u0426\\u0435\\u0440\\u043b\\u0435\\u0432\\u043e \\u0427\\u0443\\u0447\\u043a\\u043e\\u0432\\u0441\\u043a\\u043e\\u0433\\u043e \\u0440\\u0430\\u0439\\u043e\\u043d\\u0430 \\u0420\\u044f\\u0437\\u0430\\u043d\\u0441\\u043a\\u043e\\u0439 \\u043e\\u0431\\u043b\\u0430\\u0441\\u0442\\u0438\\\\\\\"\\\"\",\n          \"\\u0420\\u0435\\u043c\\u043e\\u043d\\u0442 \\u0434\\u043e\\u0440\\u043e\\u0433\\u0438 \\u0443\\u043b. \\u0425\\u0430\\u0440\\u0438\\u0441\\u0430 \\u042e\\u0441\\u0443\\u043f\\u043e\\u0432\\u0430 \\u0438 \\u0443\\u043b. \\u0421\\u043e\\u0441\\u043d\\u043e\\u0432\\u0430\\u044f \\u0441. \\u041c\\u0430\\u043b\\u043e\\u044f\\u0437 \\u0421\\u0430\\u043b\\u0430\\u0432\\u0430\\u0442\\u0441\\u043a\\u043e\\u0433\\u043e \\u0440\\u0430\\u0439\\u043e\\u043d\\u0430 \\u0420\\u0411\"\n        ],\n        \"semantic_type\": \"\",\n        \"description\": \"\"\n      }\n    },\n    {\n      \"column\": \"OKPD2\",\n      \"properties\": {\n        \"dtype\": \"string\",\n        \"num_unique_values\": 5,\n        \"samples\": [\n          \"71.1\",\n          \"42.9\",\n          \"42.1\"\n        ],\n        \"semantic_type\": \"\",\n        \"description\": \"\"\n      }\n    }\n  ]\n}"
            }
          },
          "metadata": {},
          "execution_count": 31
        }
      ]
    },
    {
      "cell_type": "code",
      "source": [
        "# Размерность\n",
        "df_work.shape"
      ],
      "metadata": {
        "colab": {
          "base_uri": "https://localhost:8080/"
        },
        "id": "BmGwDU93epmK",
        "outputId": "bb34a93b-3bc6-46d5-b2eb-47edde5bebe6"
      },
      "execution_count": 32,
      "outputs": [
        {
          "output_type": "execute_result",
          "data": {
            "text/plain": [
              "(1764006, 2)"
            ]
          },
          "metadata": {},
          "execution_count": 32
        }
      ]
    },
    {
      "cell_type": "code",
      "source": [
        "# Типы данных\n",
        "df_work.info()"
      ],
      "metadata": {
        "colab": {
          "base_uri": "https://localhost:8080/"
        },
        "id": "U37wJrTJeyLH",
        "outputId": "b67c45e1-d846-489c-afa2-a385df1584fc"
      },
      "execution_count": 33,
      "outputs": [
        {
          "output_type": "stream",
          "name": "stdout",
          "text": [
            "<class 'pandas.core.frame.DataFrame'>\n",
            "RangeIndex: 1764006 entries, 0 to 1764005\n",
            "Data columns (total 2 columns):\n",
            " #   Column   Dtype \n",
            "---  ------   ----- \n",
            " 0   Subject  string\n",
            " 1   OKPD2    string\n",
            "dtypes: string(2)\n",
            "memory usage: 26.9 MB\n"
          ]
        }
      ]
    },
    {
      "cell_type": "code",
      "source": [
        "# Количество записей, сгруппированных по коду ОКПД2\n",
        "df_work.groupby('OKPD2', as_index=False).agg({'Subject':'count'})"
      ],
      "metadata": {
        "id": "hgLVLWSkftSl"
      },
      "execution_count": null,
      "outputs": []
    },
    {
      "cell_type": "markdown",
      "source": [
        "# Лемматизация предмета закупки"
      ],
      "metadata": {
        "id": "DhjeUHIkKaQW"
      }
    },
    {
      "cell_type": "code",
      "source": [
        "# Загружаем русскую модель spaCy\n",
        "nlp_Subject = spacy.load('ru_core_news_sm')"
      ],
      "metadata": {
        "id": "qjxbFG1rE_RG"
      },
      "execution_count": 51,
      "outputs": []
    },
    {
      "cell_type": "code",
      "source": [
        "# Определим функцию для лемматизации предмета закупки\n",
        "def lemmatize_Subject(text_Subject):\n",
        "  doc = nlp_Subject(text_Subject)\n",
        "  return ' '.join([token.lemma_ for token in doc if not token.is_stop and not token.is_punct])"
      ],
      "metadata": {
        "id": "Gv5RQ5lkPwba"
      },
      "execution_count": 52,
      "outputs": []
    },
    {
      "cell_type": "code",
      "source": [
        "# Лемматизируем столбец с предметом закупки\n",
        "df_work['lemmatized_Subject_of_Contract'] = df_work['Subject'].apply(lemmatize_Subject)"
      ],
      "metadata": {
        "id": "ruWXpoi7RkCn"
      },
      "execution_count": null,
      "outputs": []
    },
    {
      "cell_type": "markdown",
      "source": [
        "# Преобразование кодов ОКПД2 в текстовые метки"
      ],
      "metadata": {
        "id": "MJ4H9tZUaTPP"
      }
    },
    {
      "cell_type": "code",
      "source": [
        "# Определим функцию для преобразования кодов ОКПД2 в текстовые метки\n",
        "def convert_OKPD2_to_text_labels(code_OKPD2):\n",
        "  codes_OKPD2 = {\n",
        "      '41': 'Здания и работы по возведению зданий',\n",
        "      '41.1': 'Документация проектная для строительства',\n",
        "      '41.2': 'Здания и работы по возведению зданий',\n",
        "      '42': 'Сооружения и строительные работы в области гражданского строительства',\n",
        "      '42.1': 'Дороги автомобильные и железные; строительные работы по строительству автомобильных дорог и железных дорог',\n",
        "      '42.2': 'Сооружения и строительные работы по строительству инженерных коммуникаций',\n",
        "      '42.9': 'Сооружения и строительные работы по строительству прочих гражданских сооружений',\n",
        "      '43': 'Работы строительные специализированные',\n",
        "      '43.1': 'Работы по сносу зданий и сооружений и по подготовке строительного участка',\n",
        "      '43.2': 'Работы электромонтажные, работы по монтажу водопроводных и канализационных систем и прочие строительно-монтажные работы',\n",
        "      '43.3': 'Работы завершающие и отделочные в зданиях и сооружениях',\n",
        "      '43.9': 'Работы строительные специализированные прочие',\n",
        "      '71.1': 'Услуги в области архитектуры, инженерно-технического проектирования и связанные технические консультативные услуги'\n",
        "  }\n",
        "  return [codes_OKPD2.get(c) for c in code_OKPD2.split(',') if c in codes_OKPD2]"
      ],
      "metadata": {
        "id": "EyoMv-W1aRnL"
      },
      "execution_count": null,
      "outputs": []
    },
    {
      "cell_type": "code",
      "source": [
        "# Промаркируем датафрейм метками\n",
        "df_work['text_Lables'] = df_work['OKPD2'].apply(convert_OKPD2_to_text_labels)"
      ],
      "metadata": {
        "id": "THPXOoNo637A"
      },
      "execution_count": null,
      "outputs": []
    },
    {
      "cell_type": "markdown",
      "source": [
        "# Преобразование текстовых меток в бинарный формат"
      ],
      "metadata": {
        "id": "XuS_uPAm8hBV"
      }
    },
    {
      "cell_type": "code",
      "source": [
        "# Для многоклассовой классификации используем бинарное представление текстовых меток\n",
        "mlb_Labels = MultiLabelBinarizer()\n",
        "y = mlb_Labels.fit_transform(df_work['text_Lables'])"
      ],
      "metadata": {
        "id": "7D6TE8Zl8qZR"
      },
      "execution_count": null,
      "outputs": []
    },
    {
      "cell_type": "markdown",
      "source": [
        "# Разделение данных на обучающую и тестовую выборки"
      ],
      "metadata": {
        "id": "FCiLrIbT-EVr"
      }
    },
    {
      "cell_type": "code",
      "source": [
        "X_train, X_test, y_train, y_test = train_test_split(df_work['lemmatized_Subject_of_Contract'], y, test_size=0.2, random_state=42)"
      ],
      "metadata": {
        "id": "-G3NwA-L-TAp"
      },
      "execution_count": null,
      "outputs": []
    },
    {
      "cell_type": "markdown",
      "source": [
        "# Создание модели обучения"
      ],
      "metadata": {
        "id": "tBjQskj9_iIt"
      }
    },
    {
      "cell_type": "code",
      "source": [
        "# Используем TfidfVectorizer для преобразования текста в числовые вектора\n",
        "tfidf = TfidfVectorizer(max_features=10000)\n",
        "# Используем метод логистической регрессии в качестве модели\n",
        "model = MultiOutputClassifier(LogisticRegression(max_iter=1000))\n",
        "# Построим пайплайн модели обучения\n",
        "pipeline = Pipeline([\n",
        "    ('tfidf', tfidf),\n",
        "    ('clsf', model)\n",
        "])"
      ],
      "metadata": {
        "id": "eQLEO2QuA7jy"
      },
      "execution_count": null,
      "outputs": []
    },
    {
      "cell_type": "markdown",
      "source": [
        "# Обучение модели на обучающей выборке"
      ],
      "metadata": {
        "id": "dG2QpTB_Ceql"
      }
    },
    {
      "cell_type": "code",
      "source": [
        "pipeline.fit(X_train, y_train)"
      ],
      "metadata": {
        "id": "r-RK27V1Cncc"
      },
      "execution_count": null,
      "outputs": []
    },
    {
      "cell_type": "markdown",
      "source": [
        "# Оценка модели на тестовой выборке"
      ],
      "metadata": {
        "id": "zG6POAlpCyRh"
      }
    },
    {
      "cell_type": "code",
      "source": [
        "y_pred = pipeline.predict(X_test)\n",
        "print(classification_report(y_test, y_pred, target_names=mlb_Labels.classes_))"
      ],
      "metadata": {
        "id": "MElzn6wXC4cC"
      },
      "execution_count": null,
      "outputs": []
    },
    {
      "cell_type": "markdown",
      "source": [
        "# Сохранение модели"
      ],
      "metadata": {
        "id": "leABFMleD8d4"
      }
    },
    {
      "cell_type": "code",
      "source": [
        "joblib.dump(pipeline, 'fz_class_model.pkl')"
      ],
      "metadata": {
        "id": "oES3qUbQEAI6"
      },
      "execution_count": null,
      "outputs": []
    },
    {
      "cell_type": "markdown",
      "source": [
        "# Применение модели"
      ],
      "metadata": {
        "id": "23PX6h8hElYS"
      }
    },
    {
      "cell_type": "code",
      "source": [
        "# Загружаем сохраненную модель\n",
        "pipeline = joblib.load('fz_class_model.pkl')\n",
        "# Определеим функцию для классификации нового контракта\n",
        "def classify_new_contract(Subject_of_new_contract):\n",
        "  lemmatized_Subject = lemmatize_Subject(Subject_of_new_contract)\n",
        "  prediction = pipeline.predict([lemmatized_Subject])\n",
        "  labels = mlb_Labels.inverse_transform(prediction)\n",
        "  return labels[0]"
      ],
      "metadata": {
        "id": "HKmLd8AgEoLe"
      },
      "execution_count": null,
      "outputs": []
    },
    {
      "cell_type": "markdown",
      "source": [
        "# Пример использования"
      ],
      "metadata": {
        "id": "Pbzn6Q4XHrEu"
      }
    },
    {
      "cell_type": "code",
      "source": [
        "new_contract = \"Ремонт автомобильной дороги\"\n",
        "predicted_labels = classify_new_contract(new_contract)\n",
        "print(predicted_labels)"
      ],
      "metadata": {
        "id": "U4Lh9mJPHvE1"
      },
      "execution_count": null,
      "outputs": []
    }
  ]
}